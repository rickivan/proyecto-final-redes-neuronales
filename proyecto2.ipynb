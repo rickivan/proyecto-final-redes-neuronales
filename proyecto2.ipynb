{
 "cells": [
  {
   "cell_type": "code",
   "execution_count": 46,
   "id": "6f5cc166",
   "metadata": {},
   "outputs": [],
   "source": [
    "import os\n",
    "import numpy as np\n",
    "import pandas as pd\n",
    "import matplotlib.pyplot as plt\n",
    "import seaborn as sns\n",
    "import cv2\n",
    "import torch    \n",
    "import torch.nn as nn\n",
    "import torch.optim as optim\n",
    "import torch.nn.functional as F\n",
    "import yaml\n",
    "import shutil \n",
    "import random\n",
    "from ultralytics import YOLO"
   ]
  },
  {
   "cell_type": "code",
   "execution_count": 2,
   "metadata": {},
   "outputs": [],
   "source": [
    "# Iniciar la semilla para la reproducibilidad\n",
    "# https://pytorch.org/docs/stable/notes/randomness.html\n",
    "def set_seed(seed): \n",
    "    random.seed(seed)\n",
    "    np.random.seed(seed)\n",
    "    torch.manual_seed(seed)\n",
    "    torch.cuda.manual_seed_all(seed)\n",
    "    torch.backends.cudnn.deterministic = True\n",
    "    torch.backends.cudnn.benchmark = False\n",
    "\n",
    "set_seed(42)\n"
   ]
  },
  {
   "cell_type": "code",
   "execution_count": 3,
   "id": "53162c94",
   "metadata": {},
   "outputs": [
    {
     "name": "stdout",
     "output_type": "stream",
     "text": [
      "Usando dispositivo: cpu\n"
     ]
    }
   ],
   "source": [
    "# Configuración de la GPU\n",
    "device = torch.device('cuda' if torch.cuda.is_available() else 'cpu')\n",
    "print(f\"Usando dispositivo: {device}\")"
   ]
  },
  {
   "cell_type": "code",
   "execution_count": null,
   "id": "da8a44e0",
   "metadata": {},
   "outputs": [],
   "source": [
    "# Establecer el directorio raíz y los directorios de imágenes y etiquetas\n",
    "# Cambia la ruta a la ubicación de tu archivo .ipynb\n",
    "root_dir = os.path.dirname(os.path.abspath(\"proyecto2.ipynb\"))\n",
    "data_dir = os.path.join(root_dir, \"data\")\n",
    "train_imgs_dir = os.path.join(data_dir, \"training_images\")\n",
    "train_labels_path = os.path.join(data_dir, \"train_solution_bounding_boxes (1).csv\")\n",
    "test_imgs_dir = os.path.join(data_dir, \"testing_images\")\n",
    "\n",
    "# Revisar si los directorios y archivos existen\n",
    "if not os.path.exists(root_dir):\n",
    "    print(f\"El directorio raíz no existe: {data_dir}\")\n",
    "if not os.path.exists(data_dir):\n",
    "    print(f\"El directorio de datos no existe: {data_dir}\")\n",
    "if not os.path.exists(train_imgs_dir):\n",
    "    print(f\"Las imágenes de entrenamiento no existen: {train_imgs_dir}\")\n",
    "if not os.path.exists(train_labels_path):\n",
    "    print(f\"El archivo de etiquetas de entrenamiento no existe: {train_labels_path}\")\n",
    "if not os.path.exists(test_imgs_dir):\n",
    "    print(f\"Las imágenes de prueba no existen: {test_imgs_dir}\")"
   ]
  },
  {
   "cell_type": "code",
   "execution_count": 5,
   "id": "380a25ee",
   "metadata": {},
   "outputs": [
    {
     "name": "stdout",
     "output_type": "stream",
     "text": [
      "Total de imágenes: 1001\n",
      "Imágenes de entrenamiento: 800\n"
     ]
    }
   ],
   "source": [
    "# Cargar las imágenes de entrenamiento\n",
    "# y mezclar la lista de imágenes\n",
    "imgs_list = sorted(os.listdir(train_imgs_dir))\n",
    "random.shuffle(imgs_list)\n",
    "\n",
    "# Dividir las imágenes en conjuntos de entrenamiento y validación\n",
    "# 80% para entrenamiento y 20% para validación\n",
    "split = int(len(imgs_list) * 0.8)\n",
    "train_imgs = imgs_list[:split]\n",
    "val_imgs = imgs_list[split:]\n",
    "\n",
    "print(f\"Total de imágenes: {len(imgs_list)}\")\n",
    "print(f\"Imágenes de entrenamiento: {len(train_imgs)}\")"
   ]
  },
  {
   "cell_type": "code",
   "execution_count": null,
   "id": "d0e5fd04",
   "metadata": {},
   "outputs": [
    {
     "name": "stdout",
     "output_type": "stream",
     "text": [
      "Total de imágenes de entrenamiento: 559\n"
     ]
    }
   ],
   "source": [
    "# Establecer los directorios de salida para las imágenes y etiquetas\n",
    "labels_dir = os.path.join(data_dir, \"labels\")\n",
    "images_dir = os.path.join(data_dir, \"images\")\n",
    "\n",
    "# Crear los directorios de salida\n",
    "for sub in [\"train\", \"val\"]:\n",
    "    if not os.path.exists(os.path.join(labels_dir, sub)):\n",
    "        os.makedirs(os.path.join(labels_dir, sub))\n",
    "    if not os.path.exists(os.path.join(images_dir, sub)):\n",
    "        os.makedirs(os.path.join(images_dir, sub))\n",
    "\n",
    "# Copiar las imágenes de entrenamiento y validación\n",
    "df = pd.read_csv(train_labels_path)\n",
    "df.rename(columns={'image': 'img_name'}, inplace=True)\n",
    "df[\"class\"] = 0\n",
    "\n",
    "print(f\"Total de imágenes de entrenamiento: {len(df)}\")"
   ]
  },
  {
   "cell_type": "code",
   "execution_count": 7,
   "id": "1b476c97",
   "metadata": {},
   "outputs": [],
   "source": [
    "# El tamaño de las imágenes es 676, 380\n",
    "width, height = 676, 380\n",
    "\n",
    "# Normalizar las coordenadas de las cajas delimitadoras\n",
    "df['x_centre'] = (df['xmin'] + df['xmax']) / (2 * width)\n",
    "df['y_centre'] = (df['ymin'] + df['ymax']) / (2 * height)\n",
    "df['width'] = (df['xmax'] - df['xmin']) / width\n",
    "df['height'] = (df['ymax'] - df['ymin']) / height\n",
    "\n",
    "df_yolo = df[['img_name', 'class', 'x_centre', 'y_centre', 'width', 'height' ]]"
   ]
  },
  {
   "cell_type": "code",
   "execution_count": 8,
   "id": "2b56d04b",
   "metadata": {},
   "outputs": [
    {
     "data": {
      "text/html": [
       "<div>\n",
       "<style scoped>\n",
       "    .dataframe tbody tr th:only-of-type {\n",
       "        vertical-align: middle;\n",
       "    }\n",
       "\n",
       "    .dataframe tbody tr th {\n",
       "        vertical-align: top;\n",
       "    }\n",
       "\n",
       "    .dataframe thead th {\n",
       "        text-align: right;\n",
       "    }\n",
       "</style>\n",
       "<table border=\"1\" class=\"dataframe\">\n",
       "  <thead>\n",
       "    <tr style=\"text-align: right;\">\n",
       "      <th></th>\n",
       "      <th>img_name</th>\n",
       "      <th>class</th>\n",
       "      <th>x_centre</th>\n",
       "      <th>y_centre</th>\n",
       "      <th>width</th>\n",
       "      <th>height</th>\n",
       "    </tr>\n",
       "  </thead>\n",
       "  <tbody>\n",
       "    <tr>\n",
       "      <th>0</th>\n",
       "      <td>vid_4_1000.jpg</td>\n",
       "      <td>0</td>\n",
       "      <td>0.450434</td>\n",
       "      <td>0.539817</td>\n",
       "      <td>0.068741</td>\n",
       "      <td>0.095238</td>\n",
       "    </tr>\n",
       "    <tr>\n",
       "      <th>1</th>\n",
       "      <td>vid_4_10000.jpg</td>\n",
       "      <td>0</td>\n",
       "      <td>0.100217</td>\n",
       "      <td>0.557191</td>\n",
       "      <td>0.155572</td>\n",
       "      <td>0.129987</td>\n",
       "    </tr>\n",
       "    <tr>\n",
       "      <th>2</th>\n",
       "      <td>vid_4_10040.jpg</td>\n",
       "      <td>0</td>\n",
       "      <td>0.444645</td>\n",
       "      <td>0.543678</td>\n",
       "      <td>0.181621</td>\n",
       "      <td>0.157014</td>\n",
       "    </tr>\n",
       "    <tr>\n",
       "      <th>3</th>\n",
       "      <td>vid_4_10020.jpg</td>\n",
       "      <td>0</td>\n",
       "      <td>0.833213</td>\n",
       "      <td>0.531451</td>\n",
       "      <td>0.197540</td>\n",
       "      <td>0.155727</td>\n",
       "    </tr>\n",
       "    <tr>\n",
       "      <th>4</th>\n",
       "      <td>vid_4_10060.jpg</td>\n",
       "      <td>0</td>\n",
       "      <td>0.110347</td>\n",
       "      <td>0.559122</td>\n",
       "      <td>0.171491</td>\n",
       "      <td>0.136422</td>\n",
       "    </tr>\n",
       "  </tbody>\n",
       "</table>\n",
       "</div>"
      ],
      "text/plain": [
       "          img_name  class  x_centre  y_centre     width    height\n",
       "0   vid_4_1000.jpg      0  0.450434  0.539817  0.068741  0.095238\n",
       "1  vid_4_10000.jpg      0  0.100217  0.557191  0.155572  0.129987\n",
       "2  vid_4_10040.jpg      0  0.444645  0.543678  0.181621  0.157014\n",
       "3  vid_4_10020.jpg      0  0.833213  0.531451  0.197540  0.155727\n",
       "4  vid_4_10060.jpg      0  0.110347  0.559122  0.171491  0.136422"
      ]
     },
     "execution_count": 8,
     "metadata": {},
     "output_type": "execute_result"
    }
   ],
   "source": [
    "df_yolo.head()"
   ]
  },
  {
   "cell_type": "code",
   "execution_count": null,
   "id": "53c52f8c",
   "metadata": {},
   "outputs": [
    {
     "name": "stdout",
     "output_type": "stream",
     "text": [
      "Imágenes de entrenamiento copiadas: 800\n",
      "Imágenes de validación copiadas: 201\n"
     ]
    }
   ],
   "source": [
    "for img_name in imgs_list: \n",
    "    # Verificar si la imagen está en el conjunto de entrenamiento o validación\n",
    "    if img_name in train_imgs:\n",
    "        subset = \"train\"\n",
    "    else:\n",
    "        subset = \"val\"\n",
    "\n",
    "    # Verificar si la imagen ya existe en el directorio de destino\n",
    "    if os.path.exists(os.path.join(images_dir, subset, img_name)):\n",
    "        print(f\"Ya existe la imagen: {img_name} en {subset}\")\n",
    "        continue\n",
    "\n",
    "    # Copiar la imagen\n",
    "    shutil.copy(os.path.join(train_imgs_dir, img_name), os.path.join(images_dir, subset, img_name))\n",
    "\n",
    "    # Verificar si la etiqueta ya existe en el directorio de destino\n",
    "    if os.path.exists(os.path.join(labels_dir, subset, img_name.replace(\".jpg\", \".txt\"))):\n",
    "        print(f\"Ya existe la etiqueta: {img_name} en {subset}\")\n",
    "        continue\n",
    "    \n",
    "    # Copiar la etiqueta\n",
    "    if img_name in df_yolo['img_name'].values:\n",
    "        if img_name in df_yolo[\"img_name\"].values:\n",
    "            bbox_data = df_yolo[df_yolo[\"img_name\"] == img_name][[\"class\", \"x_centre\", \"y_centre\", \"width\", \"height\"]].values\n",
    "            with open(os.path.join(labels_dir, subset, img_name.replace(\".jpg\", \".txt\")), \"w\") as f:\n",
    "                for row in bbox_data:\n",
    "                    f.write(\" \".join(map(str, row)) + \"\\n\")\n",
    "\n",
    "# Verificar si las imágenes y etiquetas se copiaron correctamente\n",
    "train_imgs_copied = len(os.listdir(os.path.join(images_dir, \"train\")))\n",
    "val_imgs_copied = len(os.listdir(os.path.join(images_dir, \"val\")))\n",
    "\n",
    "print(f\"Imágenes de entrenamiento copiadas: {train_imgs_copied}\")\n",
    "print(f\"Imágenes de validación copiadas: {val_imgs_copied}\")"
   ]
  },
  {
   "cell_type": "code",
   "execution_count": null,
   "id": "ac44c35e",
   "metadata": {},
   "outputs": [
    {
     "name": "stdout",
     "output_type": "stream",
     "text": [
      "names:\n",
      "- car\n",
      "nc: 1\n",
      "path: c:\\Users\\ivand\\Documents\\GitHub\\proyecto-final-redes-neuronales\\data\n",
      "train: c:\\Users\\ivand\\Documents\\GitHub\\proyecto-final-redes-neuronales\\data\\images\\train\n",
      "val: c:\\Users\\ivand\\Documents\\GitHub\\proyecto-final-redes-neuronales\\data\\images\\val\n",
      "\n"
     ]
    }
   ],
   "source": [
    "# Realizar predicciones en el conjunto de prueba\n",
    "yolo_yaml = {\n",
    "    'path': data_dir, \n",
    "    'train': os.path.join(images_dir, \"train\"),\n",
    "    'val': os.path.join(images_dir, \"val\"),\n",
    "    'nc': 1, \n",
    "    'names': [\"car\"]\n",
    "}\n",
    "\n",
    "# Guardar el archivo YAML\n",
    "if os.path.exists(os.path.join(data_dir, \"data.yaml\")):\n",
    "    print(f\"Ya existe el archivo data.yaml en {data_dir}\")\n",
    "else:\n",
    "    print(f\"Creando el archivo data.yaml en {data_dir}\")\n",
    "    with open(os.path.join(data_dir, \"data.yaml\"), \"w\") as f:\n",
    "        yaml.dump(yolo_yaml, f, default_flow_style=False)\n",
    "\n",
    "# Verificar el archivo YAML\n",
    "with open(os.path.join(data_dir, \"data.yaml\"), \"r\") as f:\n",
    "    data_yaml = yaml.safe_load(f)\n",
    "    print(yaml.dump(data_yaml, default_flow_style=False))"
   ]
  },
  {
   "cell_type": "code",
   "execution_count": null,
   "id": "d8786627",
   "metadata": {},
   "outputs": [
    {
     "name": "stdout",
     "output_type": "stream",
     "text": [
      "New https://pypi.org/project/ultralytics/8.3.143 available  Update with 'pip install -U ultralytics'\n",
      "Ultralytics 8.3.127  Python-3.13.1 torch-2.6.0+cu126 CPU (Intel Core(TM) i7-10510U 1.80GHz)\n",
      "\u001b[34m\u001b[1mengine\\trainer: \u001b[0magnostic_nms=False, amp=True, augment=False, auto_augment=randaugment, batch=8, bgr=0.0, box=7.5, cache=False, cfg=None, classes=None, close_mosaic=10, cls=0.5, conf=None, copy_paste=0.0, copy_paste_mode=flip, cos_lr=False, cutmix=0.0, data=c:\\Users\\ivand\\Documents\\GitHub\\proyecto-final-redes-neuronales\\data\\data.yaml, degrees=0.0, deterministic=True, device=cpu, dfl=1.5, dnn=False, dropout=0.0, dynamic=False, embed=None, epochs=10, erasing=0.4, exist_ok=False, fliplr=0.5, flipud=0.0, format=torchscript, fraction=1.0, freeze=None, half=False, hsv_h=0.015, hsv_s=0.7, hsv_v=0.4, imgsz=640, int8=False, iou=0.7, keras=False, kobj=1.0, line_width=None, lr0=0.0005, lrf=0.01, mask_ratio=4, max_det=300, mixup=0.0, mode=train, model=yolov8n.pt, momentum=0.937, mosaic=1.0, multi_scale=False, name=train, nbs=64, nms=False, opset=None, optimize=False, optimizer=auto, overlap_mask=True, patience=5, perspective=0.0, plots=True, pose=12.0, pretrained=True, profile=False, project=None, rect=False, resume=False, retina_masks=False, save=True, save_conf=False, save_crop=False, save_dir=runs\\detect\\train, save_frames=False, save_json=False, save_period=-1, save_txt=False, scale=0.5, seed=0, shear=0.0, show=False, show_boxes=True, show_conf=True, show_labels=True, simplify=True, single_cls=False, source=None, split=val, stream_buffer=False, task=detect, time=None, tracker=botsort.yaml, translate=0.1, val=True, verbose=True, vid_stride=1, visualize=False, warmup_bias_lr=0.1, warmup_epochs=3.0, warmup_momentum=0.8, weight_decay=0.0005, workers=8, workspace=None\n",
      "Overriding model.yaml nc=80 with nc=1\n",
      "\n",
      "                   from  n    params  module                                       arguments                     \n",
      "  0                  -1  1       464  ultralytics.nn.modules.conv.Conv             [3, 16, 3, 2]                 \n",
      "  1                  -1  1      4672  ultralytics.nn.modules.conv.Conv             [16, 32, 3, 2]                \n",
      "  2                  -1  1      7360  ultralytics.nn.modules.block.C2f             [32, 32, 1, True]             \n",
      "  3                  -1  1     18560  ultralytics.nn.modules.conv.Conv             [32, 64, 3, 2]                \n",
      "  4                  -1  2     49664  ultralytics.nn.modules.block.C2f             [64, 64, 2, True]             \n",
      "  5                  -1  1     73984  ultralytics.nn.modules.conv.Conv             [64, 128, 3, 2]               \n",
      "  6                  -1  2    197632  ultralytics.nn.modules.block.C2f             [128, 128, 2, True]           \n",
      "  7                  -1  1    295424  ultralytics.nn.modules.conv.Conv             [128, 256, 3, 2]              \n",
      "  8                  -1  1    460288  ultralytics.nn.modules.block.C2f             [256, 256, 1, True]           \n",
      "  9                  -1  1    164608  ultralytics.nn.modules.block.SPPF            [256, 256, 5]                 \n",
      " 10                  -1  1         0  torch.nn.modules.upsampling.Upsample         [None, 2, 'nearest']          \n",
      " 11             [-1, 6]  1         0  ultralytics.nn.modules.conv.Concat           [1]                           \n",
      " 12                  -1  1    148224  ultralytics.nn.modules.block.C2f             [384, 128, 1]                 \n",
      " 13                  -1  1         0  torch.nn.modules.upsampling.Upsample         [None, 2, 'nearest']          \n",
      " 14             [-1, 4]  1         0  ultralytics.nn.modules.conv.Concat           [1]                           \n",
      " 15                  -1  1     37248  ultralytics.nn.modules.block.C2f             [192, 64, 1]                  \n",
      " 16                  -1  1     36992  ultralytics.nn.modules.conv.Conv             [64, 64, 3, 2]                \n",
      " 17            [-1, 12]  1         0  ultralytics.nn.modules.conv.Concat           [1]                           \n",
      " 18                  -1  1    123648  ultralytics.nn.modules.block.C2f             [192, 128, 1]                 \n",
      " 19                  -1  1    147712  ultralytics.nn.modules.conv.Conv             [128, 128, 3, 2]              \n",
      " 20             [-1, 9]  1         0  ultralytics.nn.modules.conv.Concat           [1]                           \n",
      " 21                  -1  1    493056  ultralytics.nn.modules.block.C2f             [384, 256, 1]                 \n",
      " 22        [15, 18, 21]  1    751507  ultralytics.nn.modules.head.Detect           [1, [64, 128, 256]]           \n",
      "Model summary: 129 layers, 3,011,043 parameters, 3,011,027 gradients, 8.2 GFLOPs\n",
      "\n",
      "Transferred 319/355 items from pretrained weights\n",
      "Freezing layer 'model.22.dfl.conv.weight'\n",
      "\u001b[34m\u001b[1mtrain: \u001b[0mFast image access  (ping: 0.30.0 ms, read: 61.519.1 MB/s, size: 98.0 KB)\n"
     ]
    },
    {
     "name": "stderr",
     "output_type": "stream",
     "text": [
      "\u001b[34m\u001b[1mtrain: \u001b[0mScanning C:\\Users\\ivand\\Documents\\GitHub\\proyecto-final-redes-neuronales\\data\\labels\\train.cache... 276 images, 524 backgrounds, 0 corrupt: 100%|██████████| 800/800 [00:00<?, ?it/s]\n"
     ]
    },
    {
     "name": "stdout",
     "output_type": "stream",
     "text": [
      "\u001b[34m\u001b[1mval: \u001b[0mFast image access  (ping: 0.20.0 ms, read: 134.858.5 MB/s, size: 92.2 KB)\n"
     ]
    },
    {
     "name": "stderr",
     "output_type": "stream",
     "text": [
      "\u001b[34m\u001b[1mval: \u001b[0mScanning C:\\Users\\ivand\\Documents\\GitHub\\proyecto-final-redes-neuronales\\data\\labels\\val.cache... 79 images, 122 backgrounds, 0 corrupt: 100%|██████████| 201/201 [00:00<?, ?it/s]\n"
     ]
    },
    {
     "name": "stdout",
     "output_type": "stream",
     "text": [
      "Plotting labels to runs\\detect\\train\\labels.jpg... \n",
      "\u001b[34m\u001b[1moptimizer:\u001b[0m 'optimizer=auto' found, ignoring 'lr0=0.0005' and 'momentum=0.937' and determining best 'optimizer', 'lr0' and 'momentum' automatically... \n",
      "\u001b[34m\u001b[1moptimizer:\u001b[0m AdamW(lr=0.002, momentum=0.9) with parameter groups 57 weight(decay=0.0), 64 weight(decay=0.0005), 63 bias(decay=0.0)\n",
      "Image sizes 640 train, 640 val\n",
      "Using 0 dataloader workers\n",
      "Logging results to \u001b[1mruns\\detect\\train\u001b[0m\n",
      "Starting training for 10 epochs...\n",
      "Closing dataloader mosaic\n",
      "\n",
      "      Epoch    GPU_mem   box_loss   cls_loss   dfl_loss  Instances       Size\n"
     ]
    },
    {
     "name": "stderr",
     "output_type": "stream",
     "text": [
      "       1/10         0G       1.43      7.115      1.219          1        640: 100%|██████████| 100/100 [09:29<00:00,  5.69s/it]\n",
      "                 Class     Images  Instances      Box(P          R      mAP50  mAP50-95): 100%|██████████| 13/13 [00:25<00:00,  1.93s/it]"
     ]
    },
    {
     "name": "stdout",
     "output_type": "stream",
     "text": [
      "                   all        201        120      0.726      0.758      0.804      0.465\n"
     ]
    },
    {
     "name": "stderr",
     "output_type": "stream",
     "text": [
      "\n"
     ]
    },
    {
     "name": "stdout",
     "output_type": "stream",
     "text": [
      "\n",
      "      Epoch    GPU_mem   box_loss   cls_loss   dfl_loss  Instances       Size\n"
     ]
    },
    {
     "name": "stderr",
     "output_type": "stream",
     "text": [
      "       2/10         0G      1.455      4.508      1.293          2        640: 100%|██████████| 100/100 [09:14<00:00,  5.54s/it]\n",
      "                 Class     Images  Instances      Box(P          R      mAP50  mAP50-95): 100%|██████████| 13/13 [00:28<00:00,  2.21s/it]"
     ]
    },
    {
     "name": "stdout",
     "output_type": "stream",
     "text": [
      "                   all        201        120      0.825      0.827        0.9      0.485\n"
     ]
    },
    {
     "name": "stderr",
     "output_type": "stream",
     "text": [
      "\n"
     ]
    },
    {
     "name": "stdout",
     "output_type": "stream",
     "text": [
      "\n",
      "      Epoch    GPU_mem   box_loss   cls_loss   dfl_loss  Instances       Size\n"
     ]
    },
    {
     "name": "stderr",
     "output_type": "stream",
     "text": [
      "       3/10         0G      1.483      3.994      1.327          4        640: 100%|██████████| 100/100 [08:23<00:00,  5.03s/it]\n",
      "                 Class     Images  Instances      Box(P          R      mAP50  mAP50-95): 100%|██████████| 13/13 [00:25<00:00,  1.99s/it]"
     ]
    },
    {
     "name": "stdout",
     "output_type": "stream",
     "text": [
      "                   all        201        120      0.778      0.849      0.876      0.498\n"
     ]
    },
    {
     "name": "stderr",
     "output_type": "stream",
     "text": [
      "\n"
     ]
    },
    {
     "name": "stdout",
     "output_type": "stream",
     "text": [
      "\n",
      "      Epoch    GPU_mem   box_loss   cls_loss   dfl_loss  Instances       Size\n"
     ]
    },
    {
     "name": "stderr",
     "output_type": "stream",
     "text": [
      "       4/10         0G      1.361      3.573      1.283          5        640: 100%|██████████| 100/100 [09:54<00:00,  5.95s/it]\n",
      "                 Class     Images  Instances      Box(P          R      mAP50  mAP50-95): 100%|██████████| 13/13 [00:23<00:00,  1.80s/it]"
     ]
    },
    {
     "name": "stdout",
     "output_type": "stream",
     "text": [
      "                   all        201        120      0.883      0.867      0.936      0.547\n"
     ]
    },
    {
     "name": "stderr",
     "output_type": "stream",
     "text": [
      "\n"
     ]
    },
    {
     "name": "stdout",
     "output_type": "stream",
     "text": [
      "\n",
      "      Epoch    GPU_mem   box_loss   cls_loss   dfl_loss  Instances       Size\n"
     ]
    },
    {
     "name": "stderr",
     "output_type": "stream",
     "text": [
      "       5/10         0G      1.343      2.319      1.243          2        640: 100%|██████████| 100/100 [09:26<00:00,  5.67s/it]\n",
      "                 Class     Images  Instances      Box(P          R      mAP50  mAP50-95): 100%|██████████| 13/13 [27:08<00:00, 125.30s/it] "
     ]
    },
    {
     "name": "stdout",
     "output_type": "stream",
     "text": [
      "                   all        201        120      0.948      0.906       0.97      0.579\n"
     ]
    },
    {
     "name": "stderr",
     "output_type": "stream",
     "text": [
      "\n"
     ]
    },
    {
     "name": "stdout",
     "output_type": "stream",
     "text": [
      "\n",
      "      Epoch    GPU_mem   box_loss   cls_loss   dfl_loss  Instances       Size\n"
     ]
    },
    {
     "name": "stderr",
     "output_type": "stream",
     "text": [
      "       6/10         0G      1.386      2.249      1.261          2        640: 100%|██████████| 100/100 [09:36<00:00,  5.76s/it]\n",
      "                 Class     Images  Instances      Box(P          R      mAP50  mAP50-95): 100%|██████████| 13/13 [00:30<00:00,  2.34s/it]"
     ]
    },
    {
     "name": "stdout",
     "output_type": "stream",
     "text": [
      "                   all        201        120      0.946      0.879      0.969      0.582\n"
     ]
    },
    {
     "name": "stderr",
     "output_type": "stream",
     "text": [
      "\n"
     ]
    },
    {
     "name": "stdout",
     "output_type": "stream",
     "text": [
      "\n",
      "      Epoch    GPU_mem   box_loss   cls_loss   dfl_loss  Instances       Size\n"
     ]
    },
    {
     "name": "stderr",
     "output_type": "stream",
     "text": [
      "       7/10         0G      1.339      1.576      1.257          2        640: 100%|██████████| 100/100 [11:46<00:00,  7.06s/it]\n",
      "                 Class     Images  Instances      Box(P          R      mAP50  mAP50-95): 100%|██████████| 13/13 [00:29<00:00,  2.24s/it]"
     ]
    },
    {
     "name": "stdout",
     "output_type": "stream",
     "text": [
      "                   all        201        120       0.95      0.952       0.98      0.597\n"
     ]
    },
    {
     "name": "stderr",
     "output_type": "stream",
     "text": [
      "\n"
     ]
    },
    {
     "name": "stdout",
     "output_type": "stream",
     "text": [
      "\n",
      "      Epoch    GPU_mem   box_loss   cls_loss   dfl_loss  Instances       Size\n"
     ]
    },
    {
     "name": "stderr",
     "output_type": "stream",
     "text": [
      "       8/10         0G      1.214      1.618      1.172          8        640: 100%|██████████| 100/100 [15:18<00:00,  9.18s/it]\n",
      "                 Class     Images  Instances      Box(P          R      mAP50  mAP50-95): 100%|██████████| 13/13 [00:31<00:00,  2.40s/it]"
     ]
    },
    {
     "name": "stdout",
     "output_type": "stream",
     "text": [
      "                   all        201        120      0.951      0.963      0.975       0.61\n"
     ]
    },
    {
     "name": "stderr",
     "output_type": "stream",
     "text": [
      "\n"
     ]
    },
    {
     "name": "stdout",
     "output_type": "stream",
     "text": [
      "\n",
      "      Epoch    GPU_mem   box_loss   cls_loss   dfl_loss  Instances       Size\n"
     ]
    },
    {
     "name": "stderr",
     "output_type": "stream",
     "text": [
      "       9/10         0G      1.199      1.178      1.153          4        640: 100%|██████████| 100/100 [10:50<00:00,  6.51s/it]\n",
      "                 Class     Images  Instances      Box(P          R      mAP50  mAP50-95): 100%|██████████| 13/13 [00:33<00:00,  2.57s/it]"
     ]
    },
    {
     "name": "stdout",
     "output_type": "stream",
     "text": [
      "                   all        201        120      0.958      0.967      0.982      0.631\n"
     ]
    },
    {
     "name": "stderr",
     "output_type": "stream",
     "text": [
      "\n"
     ]
    },
    {
     "name": "stdout",
     "output_type": "stream",
     "text": [
      "\n",
      "      Epoch    GPU_mem   box_loss   cls_loss   dfl_loss  Instances       Size\n"
     ]
    },
    {
     "name": "stderr",
     "output_type": "stream",
     "text": [
      "      10/10         0G       1.16      1.216      1.142          5        640: 100%|██████████| 100/100 [11:11<00:00,  6.72s/it]\n",
      "                 Class     Images  Instances      Box(P          R      mAP50  mAP50-95): 100%|██████████| 13/13 [00:29<00:00,  2.25s/it]"
     ]
    },
    {
     "name": "stdout",
     "output_type": "stream",
     "text": [
      "                   all        201        120      0.959      0.963      0.984      0.659\n"
     ]
    },
    {
     "name": "stderr",
     "output_type": "stream",
     "text": [
      "\n"
     ]
    },
    {
     "name": "stdout",
     "output_type": "stream",
     "text": [
      "\n",
      "10 epochs completed in 2.281 hours.\n",
      "Optimizer stripped from runs\\detect\\train\\weights\\last.pt, 6.2MB\n",
      "Optimizer stripped from runs\\detect\\train\\weights\\best.pt, 6.2MB\n",
      "\n",
      "Validating runs\\detect\\train\\weights\\best.pt...\n",
      "Ultralytics 8.3.127  Python-3.13.1 torch-2.6.0+cu126 CPU (Intel Core(TM) i7-10510U 1.80GHz)\n",
      "Model summary (fused): 72 layers, 3,005,843 parameters, 0 gradients, 8.1 GFLOPs\n"
     ]
    },
    {
     "name": "stderr",
     "output_type": "stream",
     "text": [
      "                 Class     Images  Instances      Box(P          R      mAP50  mAP50-95): 100%|██████████| 13/13 [00:24<00:00,  1.86s/it]\n"
     ]
    },
    {
     "name": "stdout",
     "output_type": "stream",
     "text": [
      "                   all        201        120      0.959      0.963      0.984       0.66\n",
      "Speed: 2.0ms preprocess, 98.4ms inference, 0.0ms loss, 1.9ms postprocess per image\n",
      "Results saved to \u001b[1mruns\\detect\\train\u001b[0m\n"
     ]
    },
    {
     "data": {
      "text/plain": [
       "ultralytics.utils.metrics.DetMetrics object with attributes:\n",
       "\n",
       "ap_class_index: array([0])\n",
       "box: ultralytics.utils.metrics.Metric object\n",
       "confusion_matrix: <ultralytics.utils.metrics.ConfusionMatrix object at 0x0000021C1AAA7350>\n",
       "curves: ['Precision-Recall(B)', 'F1-Confidence(B)', 'Precision-Confidence(B)', 'Recall-Confidence(B)']\n",
       "curves_results: [[array([          0,    0.001001,    0.002002,    0.003003,    0.004004,    0.005005,    0.006006,    0.007007,    0.008008,    0.009009,     0.01001,    0.011011,    0.012012,    0.013013,    0.014014,    0.015015,    0.016016,    0.017017,    0.018018,    0.019019,     0.02002,    0.021021,    0.022022,    0.023023,\n",
       "          0.024024,    0.025025,    0.026026,    0.027027,    0.028028,    0.029029,     0.03003,    0.031031,    0.032032,    0.033033,    0.034034,    0.035035,    0.036036,    0.037037,    0.038038,    0.039039,     0.04004,    0.041041,    0.042042,    0.043043,    0.044044,    0.045045,    0.046046,    0.047047,\n",
       "          0.048048,    0.049049,     0.05005,    0.051051,    0.052052,    0.053053,    0.054054,    0.055055,    0.056056,    0.057057,    0.058058,    0.059059,     0.06006,    0.061061,    0.062062,    0.063063,    0.064064,    0.065065,    0.066066,    0.067067,    0.068068,    0.069069,     0.07007,    0.071071,\n",
       "          0.072072,    0.073073,    0.074074,    0.075075,    0.076076,    0.077077,    0.078078,    0.079079,     0.08008,    0.081081,    0.082082,    0.083083,    0.084084,    0.085085,    0.086086,    0.087087,    0.088088,    0.089089,     0.09009,    0.091091,    0.092092,    0.093093,    0.094094,    0.095095,\n",
       "          0.096096,    0.097097,    0.098098,    0.099099,      0.1001,      0.1011,      0.1021,      0.1031,      0.1041,     0.10511,     0.10611,     0.10711,     0.10811,     0.10911,     0.11011,     0.11111,     0.11211,     0.11311,     0.11411,     0.11512,     0.11612,     0.11712,     0.11812,     0.11912,\n",
       "           0.12012,     0.12112,     0.12212,     0.12312,     0.12412,     0.12513,     0.12613,     0.12713,     0.12813,     0.12913,     0.13013,     0.13113,     0.13213,     0.13313,     0.13413,     0.13514,     0.13614,     0.13714,     0.13814,     0.13914,     0.14014,     0.14114,     0.14214,     0.14314,\n",
       "           0.14414,     0.14515,     0.14615,     0.14715,     0.14815,     0.14915,     0.15015,     0.15115,     0.15215,     0.15315,     0.15415,     0.15516,     0.15616,     0.15716,     0.15816,     0.15916,     0.16016,     0.16116,     0.16216,     0.16316,     0.16416,     0.16517,     0.16617,     0.16717,\n",
       "           0.16817,     0.16917,     0.17017,     0.17117,     0.17217,     0.17317,     0.17417,     0.17518,     0.17618,     0.17718,     0.17818,     0.17918,     0.18018,     0.18118,     0.18218,     0.18318,     0.18418,     0.18519,     0.18619,     0.18719,     0.18819,     0.18919,     0.19019,     0.19119,\n",
       "           0.19219,     0.19319,     0.19419,      0.1952,      0.1962,      0.1972,      0.1982,      0.1992,      0.2002,      0.2012,      0.2022,      0.2032,      0.2042,     0.20521,     0.20621,     0.20721,     0.20821,     0.20921,     0.21021,     0.21121,     0.21221,     0.21321,     0.21421,     0.21522,\n",
       "           0.21622,     0.21722,     0.21822,     0.21922,     0.22022,     0.22122,     0.22222,     0.22322,     0.22422,     0.22523,     0.22623,     0.22723,     0.22823,     0.22923,     0.23023,     0.23123,     0.23223,     0.23323,     0.23423,     0.23524,     0.23624,     0.23724,     0.23824,     0.23924,\n",
       "           0.24024,     0.24124,     0.24224,     0.24324,     0.24424,     0.24525,     0.24625,     0.24725,     0.24825,     0.24925,     0.25025,     0.25125,     0.25225,     0.25325,     0.25425,     0.25526,     0.25626,     0.25726,     0.25826,     0.25926,     0.26026,     0.26126,     0.26226,     0.26326,\n",
       "           0.26426,     0.26527,     0.26627,     0.26727,     0.26827,     0.26927,     0.27027,     0.27127,     0.27227,     0.27327,     0.27427,     0.27528,     0.27628,     0.27728,     0.27828,     0.27928,     0.28028,     0.28128,     0.28228,     0.28328,     0.28428,     0.28529,     0.28629,     0.28729,\n",
       "           0.28829,     0.28929,     0.29029,     0.29129,     0.29229,     0.29329,     0.29429,      0.2953,      0.2963,      0.2973,      0.2983,      0.2993,      0.3003,      0.3013,      0.3023,      0.3033,      0.3043,     0.30531,     0.30631,     0.30731,     0.30831,     0.30931,     0.31031,     0.31131,\n",
       "           0.31231,     0.31331,     0.31431,     0.31532,     0.31632,     0.31732,     0.31832,     0.31932,     0.32032,     0.32132,     0.32232,     0.32332,     0.32432,     0.32533,     0.32633,     0.32733,     0.32833,     0.32933,     0.33033,     0.33133,     0.33233,     0.33333,     0.33433,     0.33534,\n",
       "           0.33634,     0.33734,     0.33834,     0.33934,     0.34034,     0.34134,     0.34234,     0.34334,     0.34434,     0.34535,     0.34635,     0.34735,     0.34835,     0.34935,     0.35035,     0.35135,     0.35235,     0.35335,     0.35435,     0.35536,     0.35636,     0.35736,     0.35836,     0.35936,\n",
       "           0.36036,     0.36136,     0.36236,     0.36336,     0.36436,     0.36537,     0.36637,     0.36737,     0.36837,     0.36937,     0.37037,     0.37137,     0.37237,     0.37337,     0.37437,     0.37538,     0.37638,     0.37738,     0.37838,     0.37938,     0.38038,     0.38138,     0.38238,     0.38338,\n",
       "           0.38438,     0.38539,     0.38639,     0.38739,     0.38839,     0.38939,     0.39039,     0.39139,     0.39239,     0.39339,     0.39439,      0.3954,      0.3964,      0.3974,      0.3984,      0.3994,      0.4004,      0.4014,      0.4024,      0.4034,      0.4044,     0.40541,     0.40641,     0.40741,\n",
       "           0.40841,     0.40941,     0.41041,     0.41141,     0.41241,     0.41341,     0.41441,     0.41542,     0.41642,     0.41742,     0.41842,     0.41942,     0.42042,     0.42142,     0.42242,     0.42342,     0.42442,     0.42543,     0.42643,     0.42743,     0.42843,     0.42943,     0.43043,     0.43143,\n",
       "           0.43243,     0.43343,     0.43443,     0.43544,     0.43644,     0.43744,     0.43844,     0.43944,     0.44044,     0.44144,     0.44244,     0.44344,     0.44444,     0.44545,     0.44645,     0.44745,     0.44845,     0.44945,     0.45045,     0.45145,     0.45245,     0.45345,     0.45445,     0.45546,\n",
       "           0.45646,     0.45746,     0.45846,     0.45946,     0.46046,     0.46146,     0.46246,     0.46346,     0.46446,     0.46547,     0.46647,     0.46747,     0.46847,     0.46947,     0.47047,     0.47147,     0.47247,     0.47347,     0.47447,     0.47548,     0.47648,     0.47748,     0.47848,     0.47948,\n",
       "           0.48048,     0.48148,     0.48248,     0.48348,     0.48448,     0.48549,     0.48649,     0.48749,     0.48849,     0.48949,     0.49049,     0.49149,     0.49249,     0.49349,     0.49449,      0.4955,      0.4965,      0.4975,      0.4985,      0.4995,      0.5005,      0.5015,      0.5025,      0.5035,\n",
       "            0.5045,     0.50551,     0.50651,     0.50751,     0.50851,     0.50951,     0.51051,     0.51151,     0.51251,     0.51351,     0.51451,     0.51552,     0.51652,     0.51752,     0.51852,     0.51952,     0.52052,     0.52152,     0.52252,     0.52352,     0.52452,     0.52553,     0.52653,     0.52753,\n",
       "           0.52853,     0.52953,     0.53053,     0.53153,     0.53253,     0.53353,     0.53453,     0.53554,     0.53654,     0.53754,     0.53854,     0.53954,     0.54054,     0.54154,     0.54254,     0.54354,     0.54454,     0.54555,     0.54655,     0.54755,     0.54855,     0.54955,     0.55055,     0.55155,\n",
       "           0.55255,     0.55355,     0.55455,     0.55556,     0.55656,     0.55756,     0.55856,     0.55956,     0.56056,     0.56156,     0.56256,     0.56356,     0.56456,     0.56557,     0.56657,     0.56757,     0.56857,     0.56957,     0.57057,     0.57157,     0.57257,     0.57357,     0.57457,     0.57558,\n",
       "           0.57658,     0.57758,     0.57858,     0.57958,     0.58058,     0.58158,     0.58258,     0.58358,     0.58458,     0.58559,     0.58659,     0.58759,     0.58859,     0.58959,     0.59059,     0.59159,     0.59259,     0.59359,     0.59459,      0.5956,      0.5966,      0.5976,      0.5986,      0.5996,\n",
       "            0.6006,      0.6016,      0.6026,      0.6036,      0.6046,     0.60561,     0.60661,     0.60761,     0.60861,     0.60961,     0.61061,     0.61161,     0.61261,     0.61361,     0.61461,     0.61562,     0.61662,     0.61762,     0.61862,     0.61962,     0.62062,     0.62162,     0.62262,     0.62362,\n",
       "           0.62462,     0.62563,     0.62663,     0.62763,     0.62863,     0.62963,     0.63063,     0.63163,     0.63263,     0.63363,     0.63463,     0.63564,     0.63664,     0.63764,     0.63864,     0.63964,     0.64064,     0.64164,     0.64264,     0.64364,     0.64464,     0.64565,     0.64665,     0.64765,\n",
       "           0.64865,     0.64965,     0.65065,     0.65165,     0.65265,     0.65365,     0.65465,     0.65566,     0.65666,     0.65766,     0.65866,     0.65966,     0.66066,     0.66166,     0.66266,     0.66366,     0.66466,     0.66567,     0.66667,     0.66767,     0.66867,     0.66967,     0.67067,     0.67167,\n",
       "           0.67267,     0.67367,     0.67467,     0.67568,     0.67668,     0.67768,     0.67868,     0.67968,     0.68068,     0.68168,     0.68268,     0.68368,     0.68468,     0.68569,     0.68669,     0.68769,     0.68869,     0.68969,     0.69069,     0.69169,     0.69269,     0.69369,     0.69469,      0.6957,\n",
       "            0.6967,      0.6977,      0.6987,      0.6997,      0.7007,      0.7017,      0.7027,      0.7037,      0.7047,     0.70571,     0.70671,     0.70771,     0.70871,     0.70971,     0.71071,     0.71171,     0.71271,     0.71371,     0.71471,     0.71572,     0.71672,     0.71772,     0.71872,     0.71972,\n",
       "           0.72072,     0.72172,     0.72272,     0.72372,     0.72472,     0.72573,     0.72673,     0.72773,     0.72873,     0.72973,     0.73073,     0.73173,     0.73273,     0.73373,     0.73473,     0.73574,     0.73674,     0.73774,     0.73874,     0.73974,     0.74074,     0.74174,     0.74274,     0.74374,\n",
       "           0.74474,     0.74575,     0.74675,     0.74775,     0.74875,     0.74975,     0.75075,     0.75175,     0.75275,     0.75375,     0.75475,     0.75576,     0.75676,     0.75776,     0.75876,     0.75976,     0.76076,     0.76176,     0.76276,     0.76376,     0.76476,     0.76577,     0.76677,     0.76777,\n",
       "           0.76877,     0.76977,     0.77077,     0.77177,     0.77277,     0.77377,     0.77477,     0.77578,     0.77678,     0.77778,     0.77878,     0.77978,     0.78078,     0.78178,     0.78278,     0.78378,     0.78478,     0.78579,     0.78679,     0.78779,     0.78879,     0.78979,     0.79079,     0.79179,\n",
       "           0.79279,     0.79379,     0.79479,      0.7958,      0.7968,      0.7978,      0.7988,      0.7998,      0.8008,      0.8018,      0.8028,      0.8038,      0.8048,     0.80581,     0.80681,     0.80781,     0.80881,     0.80981,     0.81081,     0.81181,     0.81281,     0.81381,     0.81481,     0.81582,\n",
       "           0.81682,     0.81782,     0.81882,     0.81982,     0.82082,     0.82182,     0.82282,     0.82382,     0.82482,     0.82583,     0.82683,     0.82783,     0.82883,     0.82983,     0.83083,     0.83183,     0.83283,     0.83383,     0.83483,     0.83584,     0.83684,     0.83784,     0.83884,     0.83984,\n",
       "           0.84084,     0.84184,     0.84284,     0.84384,     0.84484,     0.84585,     0.84685,     0.84785,     0.84885,     0.84985,     0.85085,     0.85185,     0.85285,     0.85385,     0.85485,     0.85586,     0.85686,     0.85786,     0.85886,     0.85986,     0.86086,     0.86186,     0.86286,     0.86386,\n",
       "           0.86486,     0.86587,     0.86687,     0.86787,     0.86887,     0.86987,     0.87087,     0.87187,     0.87287,     0.87387,     0.87487,     0.87588,     0.87688,     0.87788,     0.87888,     0.87988,     0.88088,     0.88188,     0.88288,     0.88388,     0.88488,     0.88589,     0.88689,     0.88789,\n",
       "           0.88889,     0.88989,     0.89089,     0.89189,     0.89289,     0.89389,     0.89489,      0.8959,      0.8969,      0.8979,      0.8989,      0.8999,      0.9009,      0.9019,      0.9029,      0.9039,      0.9049,     0.90591,     0.90691,     0.90791,     0.90891,     0.90991,     0.91091,     0.91191,\n",
       "           0.91291,     0.91391,     0.91491,     0.91592,     0.91692,     0.91792,     0.91892,     0.91992,     0.92092,     0.92192,     0.92292,     0.92392,     0.92492,     0.92593,     0.92693,     0.92793,     0.92893,     0.92993,     0.93093,     0.93193,     0.93293,     0.93393,     0.93493,     0.93594,\n",
       "           0.93694,     0.93794,     0.93894,     0.93994,     0.94094,     0.94194,     0.94294,     0.94394,     0.94494,     0.94595,     0.94695,     0.94795,     0.94895,     0.94995,     0.95095,     0.95195,     0.95295,     0.95395,     0.95495,     0.95596,     0.95696,     0.95796,     0.95896,     0.95996,\n",
       "           0.96096,     0.96196,     0.96296,     0.96396,     0.96496,     0.96597,     0.96697,     0.96797,     0.96897,     0.96997,     0.97097,     0.97197,     0.97297,     0.97397,     0.97497,     0.97598,     0.97698,     0.97798,     0.97898,     0.97998,     0.98098,     0.98198,     0.98298,     0.98398,\n",
       "           0.98498,     0.98599,     0.98699,     0.98799,     0.98899,     0.98999,     0.99099,     0.99199,     0.99299,     0.99399,     0.99499,       0.996,       0.997,       0.998,       0.999,           1]), array([[          1,           1,           1,           1,           1,           1,           1,           1,           1,           1,           1,           1,           1,           1,           1,           1,           1,           1,           1,           1,           1,           1,           1,\n",
       "                  1,           1,           1,           1,           1,           1,           1,           1,           1,           1,           1,           1,           1,           1,           1,           1,           1,           1,           1,           1,           1,           1,           1,\n",
       "                  1,           1,           1,           1,           1,           1,           1,           1,           1,           1,           1,           1,           1,           1,           1,           1,           1,           1,           1,           1,           1,           1,           1,\n",
       "                  1,           1,           1,           1,           1,           1,           1,           1,           1,           1,           1,           1,           1,           1,           1,           1,           1,           1,           1,           1,           1,           1,           1,\n",
       "                  1,           1,           1,           1,           1,           1,           1,           1,           1,           1,           1,           1,           1,           1,           1,           1,           1,           1,           1,           1,           1,           1,           1,\n",
       "                  1,           1,           1,           1,           1,           1,           1,           1,           1,           1,           1,           1,           1,           1,           1,           1,           1,           1,           1,           1,           1,           1,           1,\n",
       "                  1,           1,           1,           1,           1,           1,           1,           1,           1,           1,           1,           1,           1,           1,           1,           1,           1,           1,           1,           1,           1,           1,           1,\n",
       "                  1,           1,           1,           1,           1,           1,           1,           1,           1,           1,           1,           1,           1,           1,           1,           1,           1,           1,           1,           1,           1,           1,           1,\n",
       "                  1,           1,           1,           1,           1,           1,           1,           1,           1,           1,           1,           1,           1,           1,           1,           1,           1,           1,           1,           1,           1,           1,           1,\n",
       "                  1,           1,           1,           1,           1,           1,           1,           1,           1,           1,           1,           1,           1,           1,           1,           1,           1,           1,           1,           1,           1,           1,           1,\n",
       "                  1,           1,           1,           1,           1,           1,           1,           1,           1,           1,           1,           1,           1,           1,           1,           1,           1,           1,           1,           1,           1,           1,           1,\n",
       "                  1,           1,           1,           1,           1,           1,           1,           1,           1,           1,           1,           1,           1,           1,           1,           1,           1,           1,           1,           1,           1,           1,           1,\n",
       "                  1,           1,           1,           1,           1,           1,           1,           1,           1,           1,           1,           1,           1,           1,           1,           1,           1,           1,           1,           1,           1,           1,           1,\n",
       "                  1,           1,           1,           1,           1,           1,           1,           1,           1,           1,           1,           1,           1,           1,           1,           1,           1,           1,           1,           1,           1,           1,           1,\n",
       "                  1,           1,           1,           1,           1,           1,           1,           1,           1,           1,           1,           1,           1,           1,           1,           1,           1,           1,           1,           1,           1,           1,           1,\n",
       "                  1,           1,           1,           1,           1,           1,           1,           1,           1,           1,           1,           1,           1,           1,           1,           1,           1,           1,           1,           1,           1,           1,           1,\n",
       "                  1,           1,           1,           1,           1,           1,           1,           1,           1,           1,           1,           1,           1,           1,           1,           1,           1,           1,           1,           1,           1,           1,           1,\n",
       "                  1,           1,           1,           1,           1,           1,           1,           1,           1,           1,           1,           1,           1,           1,           1,           1,           1,           1,           1,           1,           1,           1,           1,\n",
       "                  1,           1,           1,           1,           1,           1,           1,           1,           1,           1,           1,           1,           1,           1,           1,           1,           1,           1,           1,           1,           1,           1,           1,\n",
       "                  1,           1,           1,           1,           1,           1,           1,           1,           1,           1,           1,           1,           1,           1,           1,           1,           1,           1,           1,           1,           1,           1,           1,\n",
       "                  1,           1,           1,           1,           1,           1,           1,           1,           1,           1,           1,           1,           1,           1,           1,           1,           1,           1,           1,           1,           1,           1,           1,\n",
       "                  1,           1,           1,           1,           1,           1,           1,           1,           1,           1,           1,           1,           1,           1,           1,           1,           1,           1,           1,           1,           1,           1,           1,\n",
       "                  1,           1,           1,           1,           1,           1,           1,           1,           1,           1,           1,           1,           1,           1,           1,           1,           1,           1,           1,           1,           1,           1,           1,\n",
       "                  1,           1,           1,           1,           1,           1,           1,           1,           1,           1,           1,           1,           1,           1,           1,           1,           1,           1,           1,           1,           1,           1,           1,\n",
       "                  1,           1,           1,           1,           1,           1,           1,           1,           1,           1,           1,           1,           1,           1,           1,           1,           1,           1,           1,           1,           1,           1,           1,\n",
       "                  1,           1,           1,           1,           1,           1,           1,           1,           1,           1,           1,           1,           1,           1,           1,           1,           1,           1,           1,           1,           1,           1,           1,\n",
       "                  1,           1,           1,           1,           1,           1,           1,           1,           1,           1,           1,           1,           1,           1,           1,           1,           1,           1,           1,           1,           1,           1,           1,\n",
       "                  1,           1,           1,           1,           1,           1,           1,           1,           1,           1,           1,           1,           1,           1,           1,           1,           1,           1,           1,           1,           1,     0.98795,     0.98795,\n",
       "            0.98795,     0.98795,     0.98795,     0.98795,     0.98795,     0.98795,     0.98795,     0.98795,     0.98795,     0.98795,     0.98795,     0.98795,     0.98795,     0.98795,     0.98795,     0.98795,     0.98795,     0.98795,     0.98795,     0.98795,     0.98795,     0.98795,     0.98795,\n",
       "            0.98795,     0.98795,     0.98795,     0.98795,     0.98795,     0.98795,     0.98795,     0.98795,     0.98795,     0.98795,     0.98795,     0.98795,     0.98795,     0.98795,     0.98795,     0.98795,     0.98131,     0.98131,     0.98131,     0.98131,     0.98131,     0.98131,     0.98131,\n",
       "            0.98131,     0.98131,     0.98131,     0.98131,     0.98131,     0.98131,     0.98131,     0.98131,     0.98131,     0.98131,     0.98131,     0.98131,     0.98131,     0.98131,     0.98131,     0.98131,     0.98131,     0.98131,     0.98131,     0.98131,     0.98131,     0.98131,     0.98131,\n",
       "            0.98131,     0.98131,     0.98131,     0.98131,     0.98131,     0.98131,     0.98131,     0.98131,     0.98131,     0.98131,     0.98131,     0.98131,     0.98131,     0.98131,     0.98131,     0.98131,     0.98131,     0.98131,     0.98131,     0.98131,     0.98131,     0.98131,     0.98131,\n",
       "            0.98131,     0.98131,     0.98131,     0.98131,     0.98131,     0.98131,     0.98131,     0.98131,     0.98131,     0.98131,     0.98131,     0.98131,     0.98131,     0.98131,     0.98131,     0.98131,     0.98131,     0.98131,     0.98131,     0.98131,     0.98131,     0.98131,     0.98131,\n",
       "            0.98131,     0.98131,     0.98131,     0.98131,     0.98131,     0.98131,     0.98131,     0.98131,     0.98131,     0.98131,     0.98131,     0.98131,     0.98131,     0.98131,     0.98131,     0.98131,     0.98131,     0.98131,     0.98131,     0.98131,     0.98131,     0.98131,     0.98131,\n",
       "            0.98131,     0.98131,     0.98131,     0.98131,     0.98131,     0.98131,     0.98131,     0.98131,     0.98131,     0.98131,     0.98131,     0.98131,     0.98131,     0.98131,     0.98131,     0.98131,     0.98131,     0.98131,     0.98131,     0.98131,     0.98131,     0.98131,     0.98131,\n",
       "            0.98131,     0.98131,     0.98131,     0.98131,     0.98131,     0.98131,     0.98131,     0.98131,     0.98131,     0.98131,     0.98131,     0.98131,     0.98131,     0.98131,     0.98131,     0.98131,     0.98131,     0.98131,     0.98131,     0.98131,     0.98131,     0.98131,     0.98131,\n",
       "            0.98131,     0.98131,     0.98131,     0.98131,     0.98131,     0.98131,     0.98131,     0.98131,     0.98131,     0.98131,     0.98131,     0.98131,     0.98131,     0.98131,     0.98131,     0.98131,     0.98131,     0.98131,     0.98131,     0.98131,     0.98131,     0.98131,     0.98131,\n",
       "            0.98131,     0.98131,     0.98131,     0.98131,     0.98131,     0.98131,     0.98131,     0.98131,     0.98131,     0.98131,     0.98131,     0.98131,     0.98131,     0.98131,     0.98131,     0.98131,     0.98131,     0.98131,     0.98131,     0.98131,     0.98131,     0.98131,     0.98131,\n",
       "            0.98131,     0.97436,     0.97436,     0.97436,     0.97436,     0.97436,     0.97436,     0.97436,     0.97436,     0.97436,     0.97436,     0.97436,     0.97436,     0.97436,     0.97436,     0.97436,     0.97436,     0.97436,     0.97436,     0.97436,     0.97436,     0.97436,     0.97436,\n",
       "            0.97436,     0.97436,     0.97436,     0.97436,     0.97436,     0.97436,     0.97436,     0.97436,     0.97436,     0.97436,     0.97436,     0.97436,     0.97436,     0.97436,     0.97436,     0.97436,     0.97436,     0.97436,     0.97436,     0.97436,     0.97436,     0.97436,     0.97436,\n",
       "            0.97436,     0.97436,     0.97436,     0.97436,     0.97436,     0.97436,     0.97436,     0.97436,     0.97436,     0.97436,     0.97436,     0.97436,     0.97436,     0.97436,     0.97436,     0.97436,     0.97436,     0.97436,     0.97436,     0.97436,     0.97436,     0.97436,     0.97436,\n",
       "            0.97436,     0.97436,     0.97436,     0.97436,     0.97436,     0.97436,     0.97436,     0.95902,     0.95902,     0.95902,     0.95902,     0.95902,     0.95902,     0.95902,     0.95902,     0.95902,     0.95902,     0.95902,     0.95902,     0.95902,     0.95902,     0.95902,     0.95902,\n",
       "            0.95902,     0.95902,     0.95902,     0.95902,     0.95902,     0.95902,     0.95902,     0.95902,     0.95902,     0.86765,     0.86765,     0.86765,     0.86765,     0.86765,     0.86765,     0.86765,     0.86765,     0.73457,     0.73457,     0.73457,     0.73457,     0.73457,     0.73457,\n",
       "            0.73457,     0.73457,     0.36585,     0.36585,     0.36585,     0.36585,     0.36585,     0.36585,     0.36585,     0.36585,           0]]), 'Recall', 'Precision'], [array([          0,    0.001001,    0.002002,    0.003003,    0.004004,    0.005005,    0.006006,    0.007007,    0.008008,    0.009009,     0.01001,    0.011011,    0.012012,    0.013013,    0.014014,    0.015015,    0.016016,    0.017017,    0.018018,    0.019019,     0.02002,    0.021021,    0.022022,    0.023023,\n",
       "          0.024024,    0.025025,    0.026026,    0.027027,    0.028028,    0.029029,     0.03003,    0.031031,    0.032032,    0.033033,    0.034034,    0.035035,    0.036036,    0.037037,    0.038038,    0.039039,     0.04004,    0.041041,    0.042042,    0.043043,    0.044044,    0.045045,    0.046046,    0.047047,\n",
       "          0.048048,    0.049049,     0.05005,    0.051051,    0.052052,    0.053053,    0.054054,    0.055055,    0.056056,    0.057057,    0.058058,    0.059059,     0.06006,    0.061061,    0.062062,    0.063063,    0.064064,    0.065065,    0.066066,    0.067067,    0.068068,    0.069069,     0.07007,    0.071071,\n",
       "          0.072072,    0.073073,    0.074074,    0.075075,    0.076076,    0.077077,    0.078078,    0.079079,     0.08008,    0.081081,    0.082082,    0.083083,    0.084084,    0.085085,    0.086086,    0.087087,    0.088088,    0.089089,     0.09009,    0.091091,    0.092092,    0.093093,    0.094094,    0.095095,\n",
       "          0.096096,    0.097097,    0.098098,    0.099099,      0.1001,      0.1011,      0.1021,      0.1031,      0.1041,     0.10511,     0.10611,     0.10711,     0.10811,     0.10911,     0.11011,     0.11111,     0.11211,     0.11311,     0.11411,     0.11512,     0.11612,     0.11712,     0.11812,     0.11912,\n",
       "           0.12012,     0.12112,     0.12212,     0.12312,     0.12412,     0.12513,     0.12613,     0.12713,     0.12813,     0.12913,     0.13013,     0.13113,     0.13213,     0.13313,     0.13413,     0.13514,     0.13614,     0.13714,     0.13814,     0.13914,     0.14014,     0.14114,     0.14214,     0.14314,\n",
       "           0.14414,     0.14515,     0.14615,     0.14715,     0.14815,     0.14915,     0.15015,     0.15115,     0.15215,     0.15315,     0.15415,     0.15516,     0.15616,     0.15716,     0.15816,     0.15916,     0.16016,     0.16116,     0.16216,     0.16316,     0.16416,     0.16517,     0.16617,     0.16717,\n",
       "           0.16817,     0.16917,     0.17017,     0.17117,     0.17217,     0.17317,     0.17417,     0.17518,     0.17618,     0.17718,     0.17818,     0.17918,     0.18018,     0.18118,     0.18218,     0.18318,     0.18418,     0.18519,     0.18619,     0.18719,     0.18819,     0.18919,     0.19019,     0.19119,\n",
       "           0.19219,     0.19319,     0.19419,      0.1952,      0.1962,      0.1972,      0.1982,      0.1992,      0.2002,      0.2012,      0.2022,      0.2032,      0.2042,     0.20521,     0.20621,     0.20721,     0.20821,     0.20921,     0.21021,     0.21121,     0.21221,     0.21321,     0.21421,     0.21522,\n",
       "           0.21622,     0.21722,     0.21822,     0.21922,     0.22022,     0.22122,     0.22222,     0.22322,     0.22422,     0.22523,     0.22623,     0.22723,     0.22823,     0.22923,     0.23023,     0.23123,     0.23223,     0.23323,     0.23423,     0.23524,     0.23624,     0.23724,     0.23824,     0.23924,\n",
       "           0.24024,     0.24124,     0.24224,     0.24324,     0.24424,     0.24525,     0.24625,     0.24725,     0.24825,     0.24925,     0.25025,     0.25125,     0.25225,     0.25325,     0.25425,     0.25526,     0.25626,     0.25726,     0.25826,     0.25926,     0.26026,     0.26126,     0.26226,     0.26326,\n",
       "           0.26426,     0.26527,     0.26627,     0.26727,     0.26827,     0.26927,     0.27027,     0.27127,     0.27227,     0.27327,     0.27427,     0.27528,     0.27628,     0.27728,     0.27828,     0.27928,     0.28028,     0.28128,     0.28228,     0.28328,     0.28428,     0.28529,     0.28629,     0.28729,\n",
       "           0.28829,     0.28929,     0.29029,     0.29129,     0.29229,     0.29329,     0.29429,      0.2953,      0.2963,      0.2973,      0.2983,      0.2993,      0.3003,      0.3013,      0.3023,      0.3033,      0.3043,     0.30531,     0.30631,     0.30731,     0.30831,     0.30931,     0.31031,     0.31131,\n",
       "           0.31231,     0.31331,     0.31431,     0.31532,     0.31632,     0.31732,     0.31832,     0.31932,     0.32032,     0.32132,     0.32232,     0.32332,     0.32432,     0.32533,     0.32633,     0.32733,     0.32833,     0.32933,     0.33033,     0.33133,     0.33233,     0.33333,     0.33433,     0.33534,\n",
       "           0.33634,     0.33734,     0.33834,     0.33934,     0.34034,     0.34134,     0.34234,     0.34334,     0.34434,     0.34535,     0.34635,     0.34735,     0.34835,     0.34935,     0.35035,     0.35135,     0.35235,     0.35335,     0.35435,     0.35536,     0.35636,     0.35736,     0.35836,     0.35936,\n",
       "           0.36036,     0.36136,     0.36236,     0.36336,     0.36436,     0.36537,     0.36637,     0.36737,     0.36837,     0.36937,     0.37037,     0.37137,     0.37237,     0.37337,     0.37437,     0.37538,     0.37638,     0.37738,     0.37838,     0.37938,     0.38038,     0.38138,     0.38238,     0.38338,\n",
       "           0.38438,     0.38539,     0.38639,     0.38739,     0.38839,     0.38939,     0.39039,     0.39139,     0.39239,     0.39339,     0.39439,      0.3954,      0.3964,      0.3974,      0.3984,      0.3994,      0.4004,      0.4014,      0.4024,      0.4034,      0.4044,     0.40541,     0.40641,     0.40741,\n",
       "           0.40841,     0.40941,     0.41041,     0.41141,     0.41241,     0.41341,     0.41441,     0.41542,     0.41642,     0.41742,     0.41842,     0.41942,     0.42042,     0.42142,     0.42242,     0.42342,     0.42442,     0.42543,     0.42643,     0.42743,     0.42843,     0.42943,     0.43043,     0.43143,\n",
       "           0.43243,     0.43343,     0.43443,     0.43544,     0.43644,     0.43744,     0.43844,     0.43944,     0.44044,     0.44144,     0.44244,     0.44344,     0.44444,     0.44545,     0.44645,     0.44745,     0.44845,     0.44945,     0.45045,     0.45145,     0.45245,     0.45345,     0.45445,     0.45546,\n",
       "           0.45646,     0.45746,     0.45846,     0.45946,     0.46046,     0.46146,     0.46246,     0.46346,     0.46446,     0.46547,     0.46647,     0.46747,     0.46847,     0.46947,     0.47047,     0.47147,     0.47247,     0.47347,     0.47447,     0.47548,     0.47648,     0.47748,     0.47848,     0.47948,\n",
       "           0.48048,     0.48148,     0.48248,     0.48348,     0.48448,     0.48549,     0.48649,     0.48749,     0.48849,     0.48949,     0.49049,     0.49149,     0.49249,     0.49349,     0.49449,      0.4955,      0.4965,      0.4975,      0.4985,      0.4995,      0.5005,      0.5015,      0.5025,      0.5035,\n",
       "            0.5045,     0.50551,     0.50651,     0.50751,     0.50851,     0.50951,     0.51051,     0.51151,     0.51251,     0.51351,     0.51451,     0.51552,     0.51652,     0.51752,     0.51852,     0.51952,     0.52052,     0.52152,     0.52252,     0.52352,     0.52452,     0.52553,     0.52653,     0.52753,\n",
       "           0.52853,     0.52953,     0.53053,     0.53153,     0.53253,     0.53353,     0.53453,     0.53554,     0.53654,     0.53754,     0.53854,     0.53954,     0.54054,     0.54154,     0.54254,     0.54354,     0.54454,     0.54555,     0.54655,     0.54755,     0.54855,     0.54955,     0.55055,     0.55155,\n",
       "           0.55255,     0.55355,     0.55455,     0.55556,     0.55656,     0.55756,     0.55856,     0.55956,     0.56056,     0.56156,     0.56256,     0.56356,     0.56456,     0.56557,     0.56657,     0.56757,     0.56857,     0.56957,     0.57057,     0.57157,     0.57257,     0.57357,     0.57457,     0.57558,\n",
       "           0.57658,     0.57758,     0.57858,     0.57958,     0.58058,     0.58158,     0.58258,     0.58358,     0.58458,     0.58559,     0.58659,     0.58759,     0.58859,     0.58959,     0.59059,     0.59159,     0.59259,     0.59359,     0.59459,      0.5956,      0.5966,      0.5976,      0.5986,      0.5996,\n",
       "            0.6006,      0.6016,      0.6026,      0.6036,      0.6046,     0.60561,     0.60661,     0.60761,     0.60861,     0.60961,     0.61061,     0.61161,     0.61261,     0.61361,     0.61461,     0.61562,     0.61662,     0.61762,     0.61862,     0.61962,     0.62062,     0.62162,     0.62262,     0.62362,\n",
       "           0.62462,     0.62563,     0.62663,     0.62763,     0.62863,     0.62963,     0.63063,     0.63163,     0.63263,     0.63363,     0.63463,     0.63564,     0.63664,     0.63764,     0.63864,     0.63964,     0.64064,     0.64164,     0.64264,     0.64364,     0.64464,     0.64565,     0.64665,     0.64765,\n",
       "           0.64865,     0.64965,     0.65065,     0.65165,     0.65265,     0.65365,     0.65465,     0.65566,     0.65666,     0.65766,     0.65866,     0.65966,     0.66066,     0.66166,     0.66266,     0.66366,     0.66466,     0.66567,     0.66667,     0.66767,     0.66867,     0.66967,     0.67067,     0.67167,\n",
       "           0.67267,     0.67367,     0.67467,     0.67568,     0.67668,     0.67768,     0.67868,     0.67968,     0.68068,     0.68168,     0.68268,     0.68368,     0.68468,     0.68569,     0.68669,     0.68769,     0.68869,     0.68969,     0.69069,     0.69169,     0.69269,     0.69369,     0.69469,      0.6957,\n",
       "            0.6967,      0.6977,      0.6987,      0.6997,      0.7007,      0.7017,      0.7027,      0.7037,      0.7047,     0.70571,     0.70671,     0.70771,     0.70871,     0.70971,     0.71071,     0.71171,     0.71271,     0.71371,     0.71471,     0.71572,     0.71672,     0.71772,     0.71872,     0.71972,\n",
       "           0.72072,     0.72172,     0.72272,     0.72372,     0.72472,     0.72573,     0.72673,     0.72773,     0.72873,     0.72973,     0.73073,     0.73173,     0.73273,     0.73373,     0.73473,     0.73574,     0.73674,     0.73774,     0.73874,     0.73974,     0.74074,     0.74174,     0.74274,     0.74374,\n",
       "           0.74474,     0.74575,     0.74675,     0.74775,     0.74875,     0.74975,     0.75075,     0.75175,     0.75275,     0.75375,     0.75475,     0.75576,     0.75676,     0.75776,     0.75876,     0.75976,     0.76076,     0.76176,     0.76276,     0.76376,     0.76476,     0.76577,     0.76677,     0.76777,\n",
       "           0.76877,     0.76977,     0.77077,     0.77177,     0.77277,     0.77377,     0.77477,     0.77578,     0.77678,     0.77778,     0.77878,     0.77978,     0.78078,     0.78178,     0.78278,     0.78378,     0.78478,     0.78579,     0.78679,     0.78779,     0.78879,     0.78979,     0.79079,     0.79179,\n",
       "           0.79279,     0.79379,     0.79479,      0.7958,      0.7968,      0.7978,      0.7988,      0.7998,      0.8008,      0.8018,      0.8028,      0.8038,      0.8048,     0.80581,     0.80681,     0.80781,     0.80881,     0.80981,     0.81081,     0.81181,     0.81281,     0.81381,     0.81481,     0.81582,\n",
       "           0.81682,     0.81782,     0.81882,     0.81982,     0.82082,     0.82182,     0.82282,     0.82382,     0.82482,     0.82583,     0.82683,     0.82783,     0.82883,     0.82983,     0.83083,     0.83183,     0.83283,     0.83383,     0.83483,     0.83584,     0.83684,     0.83784,     0.83884,     0.83984,\n",
       "           0.84084,     0.84184,     0.84284,     0.84384,     0.84484,     0.84585,     0.84685,     0.84785,     0.84885,     0.84985,     0.85085,     0.85185,     0.85285,     0.85385,     0.85485,     0.85586,     0.85686,     0.85786,     0.85886,     0.85986,     0.86086,     0.86186,     0.86286,     0.86386,\n",
       "           0.86486,     0.86587,     0.86687,     0.86787,     0.86887,     0.86987,     0.87087,     0.87187,     0.87287,     0.87387,     0.87487,     0.87588,     0.87688,     0.87788,     0.87888,     0.87988,     0.88088,     0.88188,     0.88288,     0.88388,     0.88488,     0.88589,     0.88689,     0.88789,\n",
       "           0.88889,     0.88989,     0.89089,     0.89189,     0.89289,     0.89389,     0.89489,      0.8959,      0.8969,      0.8979,      0.8989,      0.8999,      0.9009,      0.9019,      0.9029,      0.9039,      0.9049,     0.90591,     0.90691,     0.90791,     0.90891,     0.90991,     0.91091,     0.91191,\n",
       "           0.91291,     0.91391,     0.91491,     0.91592,     0.91692,     0.91792,     0.91892,     0.91992,     0.92092,     0.92192,     0.92292,     0.92392,     0.92492,     0.92593,     0.92693,     0.92793,     0.92893,     0.92993,     0.93093,     0.93193,     0.93293,     0.93393,     0.93493,     0.93594,\n",
       "           0.93694,     0.93794,     0.93894,     0.93994,     0.94094,     0.94194,     0.94294,     0.94394,     0.94494,     0.94595,     0.94695,     0.94795,     0.94895,     0.94995,     0.95095,     0.95195,     0.95295,     0.95395,     0.95495,     0.95596,     0.95696,     0.95796,     0.95896,     0.95996,\n",
       "           0.96096,     0.96196,     0.96296,     0.96396,     0.96496,     0.96597,     0.96697,     0.96797,     0.96897,     0.96997,     0.97097,     0.97197,     0.97297,     0.97397,     0.97497,     0.97598,     0.97698,     0.97798,     0.97898,     0.97998,     0.98098,     0.98198,     0.98298,     0.98398,\n",
       "           0.98498,     0.98599,     0.98699,     0.98799,     0.98899,     0.98999,     0.99099,     0.99199,     0.99299,     0.99399,     0.99499,       0.996,       0.997,       0.998,       0.999,           1]), array([[  0.0089306,    0.008946,      0.4849,      0.5677,     0.62252,     0.65624,     0.69906,     0.72531,     0.74791,     0.76761,     0.78908,     0.80413,     0.81264,     0.82429,      0.8257,     0.83862,     0.84387,     0.84049,     0.84204,     0.84516,     0.85461,     0.85883,     0.87093,\n",
       "            0.87397,     0.87804,     0.87944,     0.88161,     0.88442,     0.88525,     0.88608,     0.88691,     0.88829,     0.88999,     0.89428,     0.89497,     0.89566,     0.89634,     0.89702,     0.89802,     0.89927,     0.90052,     0.90242,     0.90521,      0.9114,     0.91187,     0.91235,\n",
       "            0.91282,      0.9133,     0.91377,     0.91425,     0.91472,     0.91834,     0.91959,     0.92084,     0.92174,     0.92091,     0.92008,     0.91926,     0.91843,     0.91936,     0.92498,     0.92518,     0.92538,     0.92557,     0.92577,     0.92597,     0.92617,     0.92637,     0.92656,\n",
       "            0.92676,     0.92696,     0.92715,     0.92735,     0.92755,     0.92775,     0.92794,     0.92814,     0.92834,     0.92853,     0.93238,     0.93272,     0.93307,     0.93342,     0.93376,     0.93411,     0.93446,      0.9348,     0.93515,     0.93549,     0.93584,     0.93661,     0.93776,\n",
       "            0.93891,     0.93986,     0.94026,     0.94065,     0.94105,     0.94144,     0.94184,     0.94223,     0.94262,     0.94302,     0.94341,     0.94367,     0.94385,     0.94403,     0.94422,      0.9444,     0.94458,     0.94477,     0.94495,     0.94513,     0.94532,      0.9455,     0.94568,\n",
       "            0.94587,     0.94605,     0.94623,     0.94641,      0.9466,     0.94678,     0.94696,     0.94714,     0.94733,     0.94747,      0.9476,     0.94773,     0.94787,       0.948,     0.94813,     0.94826,      0.9484,     0.94853,     0.94866,     0.94879,     0.94892,     0.94906,     0.94919,\n",
       "            0.94932,     0.94945,     0.94958,     0.94971,     0.94985,     0.94998,     0.95011,     0.95024,     0.95037,      0.9505,     0.95064,     0.95077,      0.9509,     0.95103,     0.95116,     0.95124,     0.95128,     0.95132,     0.95135,     0.95139,     0.95143,     0.95147,      0.9515,\n",
       "            0.95154,     0.95158,     0.95161,     0.95165,     0.95169,     0.95173,     0.95176,      0.9518,     0.95184,     0.95188,     0.95191,     0.95195,     0.95199,     0.95203,     0.95206,      0.9521,     0.95214,     0.95218,     0.95221,     0.95225,     0.95229,     0.95233,     0.95236,\n",
       "             0.9524,     0.95244,     0.95247,     0.95251,     0.95255,     0.95259,     0.95262,     0.95266,      0.9527,     0.95274,     0.95277,     0.95281,     0.95285,     0.95289,     0.95292,     0.95296,       0.953,     0.95303,     0.95307,     0.95311,     0.95315,     0.95318,     0.95322,\n",
       "            0.95326,      0.9533,     0.95333,     0.95337,     0.95341,     0.95344,     0.95348,     0.95352,     0.95356,     0.95359,     0.95363,     0.95367,     0.95371,     0.95374,     0.95378,     0.95382,     0.95385,     0.95389,     0.95393,     0.95397,       0.954,     0.95404,     0.95408,\n",
       "            0.95412,     0.95415,     0.95419,     0.95423,     0.95426,      0.9543,     0.95434,     0.95438,     0.95441,     0.95445,     0.95449,     0.95452,     0.95456,      0.9546,     0.95464,     0.95467,     0.95471,     0.95475,     0.95478,     0.95482,     0.95486,      0.9549,     0.95493,\n",
       "            0.95497,     0.95501,     0.95504,     0.95508,      0.9553,     0.95573,     0.95615,     0.95658,     0.95701,     0.95743,     0.95786,     0.95828,     0.95871,     0.95915,     0.95963,     0.96012,      0.9606,     0.96108,     0.96156,     0.96205,     0.96253,     0.96312,     0.96478,\n",
       "            0.96643,     0.96674,     0.96644,     0.96613,     0.96583,     0.96553,     0.96523,     0.96493,     0.96463,     0.96433,     0.96403,     0.96373,     0.96342,     0.96312,     0.96282,      0.9626,     0.96249,     0.96238,     0.96226,     0.96215,     0.96204,     0.96192,     0.96181,\n",
       "             0.9617,     0.96158,     0.96147,     0.96135,     0.96124,     0.96113,     0.96101,      0.9609,     0.96079,     0.96067,     0.96056,     0.96044,     0.96033,     0.96022,      0.9601,     0.95999,     0.95987,     0.95976,     0.95965,     0.95953,     0.95942,      0.9593,     0.95919,\n",
       "            0.95907,     0.95896,     0.95885,     0.95873,     0.95862,      0.9585,     0.95839,     0.95828,     0.95818,     0.95809,     0.95799,     0.95789,     0.95779,     0.95769,     0.95759,      0.9575,      0.9574,      0.9573,      0.9572,      0.9571,       0.957,      0.9569,     0.95681,\n",
       "            0.95671,     0.95661,     0.95651,     0.95641,     0.95631,     0.95621,     0.95612,     0.95602,     0.95592,     0.95582,     0.95572,     0.95562,     0.95552,     0.95542,     0.95533,     0.95523,     0.95513,     0.95503,     0.95493,     0.95483,     0.95473,     0.95463,     0.95453,\n",
       "            0.95444,     0.95434,     0.95424,     0.95414,     0.95404,     0.95404,     0.95423,     0.95442,     0.95461,      0.9548,     0.95499,     0.95517,     0.95536,     0.95555,     0.95574,     0.95593,     0.95612,     0.95631,     0.95649,     0.95668,     0.95687,     0.95706,     0.95725,\n",
       "            0.95743,     0.95762,     0.95781,     0.95799,     0.95804,      0.9581,     0.95816,     0.95821,     0.95827,     0.95832,     0.95838,     0.95844,     0.95849,     0.95855,      0.9586,     0.95866,     0.95871,     0.95877,     0.95883,     0.95888,     0.95894,     0.95899,     0.95905,\n",
       "            0.95911,     0.95916,     0.95922,     0.95927,     0.95933,     0.95938,     0.95944,      0.9595,     0.95955,     0.95961,     0.95966,     0.95972,     0.95978,     0.95983,     0.95989,     0.95994,        0.96,     0.96005,     0.96011,     0.96017,     0.96022,     0.96028,     0.96033,\n",
       "            0.96039,     0.96044,      0.9605,     0.96055,     0.96061,     0.96067,     0.96072,     0.96078,     0.96083,     0.96089,     0.96094,       0.961,     0.96106,     0.96111,     0.96117,     0.96122,     0.96128,     0.96133,     0.96139,     0.96144,      0.9615,     0.96156,     0.96161,\n",
       "            0.96167,     0.96172,     0.96178,     0.96183,     0.96189,     0.96194,       0.962,     0.96094,     0.95893,     0.95758,     0.95744,      0.9573,     0.95717,     0.95703,     0.95689,     0.95675,     0.95662,     0.95648,     0.95634,      0.9562,     0.95607,     0.95593,     0.95579,\n",
       "            0.95565,     0.95552,     0.95538,     0.95524,      0.9551,     0.95496,     0.95483,     0.95469,     0.95455,     0.95441,     0.95427,     0.95414,       0.954,     0.95386,     0.95372,     0.95358,     0.95344,     0.95331,     0.95317,     0.95302,     0.95288,     0.95273,     0.95259,\n",
       "            0.95244,     0.95229,     0.95215,       0.952,     0.95186,     0.95171,     0.95157,     0.95142,     0.95127,     0.95113,     0.95098,     0.95084,     0.95069,     0.95054,      0.9504,     0.95025,     0.95011,     0.94996,     0.94981,     0.94967,     0.94952,     0.94938,     0.94923,\n",
       "            0.94908,     0.94894,     0.94879,     0.94643,     0.94188,      0.9396,     0.93949,     0.93938,     0.93928,     0.93917,     0.93906,     0.93895,     0.93884,     0.93874,     0.93863,     0.93852,     0.93841,      0.9383,      0.9382,     0.93809,     0.93798,     0.93787,     0.93776,\n",
       "            0.93766,     0.93755,     0.93744,     0.93733,     0.93722,     0.93712,     0.93701,      0.9369,     0.93679,     0.93668,     0.93657,     0.93647,     0.93636,     0.93625,     0.93614,     0.93603,     0.93592,     0.93581,     0.93571,      0.9356,     0.93549,     0.93538,     0.93527,\n",
       "            0.93516,     0.93496,     0.93396,     0.93295,     0.93194,     0.93093,     0.92729,     0.92428,     0.92229,     0.92123,     0.92171,     0.92219,     0.92266,     0.92314,     0.92361,     0.92408,     0.92456,     0.92503,     0.92446,     0.92367,     0.92289,      0.9221,     0.92131,\n",
       "            0.92052,     0.92001,     0.91957,     0.91914,      0.9187,     0.91826,     0.91782,     0.91739,     0.91695,     0.91651,     0.91607,     0.91563,     0.91181,     0.91031,     0.90977,     0.90923,     0.90869,     0.90815,     0.90761,     0.90707,     0.90653,     0.90599,     0.90572,\n",
       "            0.90556,      0.9054,     0.90524,     0.90509,     0.90493,     0.90477,     0.90461,     0.90446,      0.9043,     0.90414,     0.90398,     0.90382,     0.90366,     0.90351,     0.90335,     0.90319,     0.90303,     0.90287,     0.90271,     0.90256,      0.9024,     0.90224,     0.90208,\n",
       "            0.90192,     0.90176,      0.9016,     0.90145,     0.90129,     0.90113,     0.90097,     0.90065,     0.90022,     0.89979,     0.89935,     0.89892,     0.89848,     0.89805,     0.89762,     0.89718,     0.89674,     0.89631,     0.89584,     0.89511,     0.89439,     0.89367,     0.89294,\n",
       "            0.89222,     0.89149,     0.88967,     0.88564,     0.88507,     0.88451,     0.88395,     0.88339,     0.88282,     0.88226,     0.88169,     0.88113,     0.88033,     0.87898,     0.87764,     0.87629,      0.8749,     0.87348,     0.87206,     0.87064,     0.86921,     0.86777,     0.86633,\n",
       "            0.86506,     0.86471,     0.86436,       0.864,     0.86365,      0.8633,     0.86294,     0.86259,     0.86224,     0.86188,     0.86153,     0.86117,     0.86082,     0.86046,     0.86011,     0.85967,     0.85881,     0.85794,     0.85707,     0.85621,     0.85534,     0.85447,     0.85339,\n",
       "             0.8523,     0.85121,     0.85012,     0.84904,     0.84839,     0.84774,      0.8471,     0.84645,      0.8458,     0.84514,     0.84449,     0.84384,     0.84297,     0.84198,     0.84098,     0.83998,     0.83899,     0.83791,     0.83619,     0.83447,     0.83274,      0.8309,     0.82904,\n",
       "            0.82717,     0.82218,     0.81771,     0.81482,     0.81336,      0.8119,     0.81044,     0.80874,     0.80684,     0.80493,     0.80511,     0.80761,     0.80496,     0.80192,      0.8013,     0.80068,     0.80006,     0.79943,     0.79881,     0.79819,     0.79756,     0.79694,     0.79631,\n",
       "            0.79467,     0.79216,     0.78206,      0.7809,     0.77997,     0.77763,     0.77542,     0.77449,     0.77355,     0.77262,     0.77169,     0.77075,     0.76981,     0.76899,     0.76836,     0.76773,      0.7671,     0.76646,     0.76583,      0.7652,     0.76456,     0.76393,     0.76329,\n",
       "            0.76236,      0.7609,     0.75944,     0.75798,     0.75652,     0.74859,     0.74158,     0.73675,     0.73486,     0.73296,     0.73106,      0.7226,     0.71973,     0.71685,     0.71483,      0.7129,     0.71096,      0.7088,     0.70621,     0.70361,     0.70089,      0.6981,     0.69472,\n",
       "            0.68832,     0.68699,     0.68566,     0.68433,       0.683,     0.68166,     0.67296,     0.67045,     0.66793,      0.6659,     0.66435,     0.66281,     0.66125,      0.6597,     0.65588,     0.65117,     0.64731,     0.64362,     0.64091,     0.63818,      0.6339,     0.62583,     0.61066,\n",
       "            0.60328,     0.59434,     0.59014,      0.5851,     0.57754,     0.56478,     0.55969,      0.5556,        0.55,     0.54373,     0.53777,     0.52584,       0.522,     0.51834,     0.51649,     0.51464,     0.51278,     0.51092,     0.50778,     0.49859,     0.49396,     0.48535,     0.47871,\n",
       "            0.47574,     0.47275,      0.4673,      0.4506,     0.44186,     0.43557,     0.42765,     0.41409,     0.39784,     0.38865,     0.38494,     0.38121,     0.36681,     0.36286,     0.35889,     0.35195,     0.33629,     0.32439,     0.31652,     0.30972,      0.3062,     0.30266,     0.29911,\n",
       "             0.2925,     0.28194,      0.2691,     0.26177,     0.25261,     0.23464,     0.23067,     0.22669,     0.22269,     0.21713,     0.21134,      0.1807,     0.17543,     0.17013,     0.16623,     0.16333,     0.16042,      0.1575,     0.15456,     0.14588,     0.12999,      0.1206,       0.115,\n",
       "            0.10807,    0.092058,    0.079207,    0.077905,    0.076602,    0.075297,     0.07399,    0.072681,     0.07137,    0.070058,    0.068744,    0.067428,     0.06611,    0.064791,    0.053843,    0.048203,    0.047282,    0.046361,    0.045438,    0.044515,     0.04359,    0.042665,    0.041739,\n",
       "           0.040812,    0.039884,    0.038956,    0.038026,    0.037096,    0.036164,    0.035232,    0.034299,    0.033365,     0.03201,    0.029969,    0.027925,    0.025876,    0.023824,    0.021766,    0.019705,    0.017639,           0,           0,           0,           0,           0,           0,\n",
       "                  0,           0,           0,           0,           0,           0,           0,           0,           0,           0,           0,           0,           0,           0,           0,           0,           0,           0,           0,           0,           0,           0,           0,\n",
       "                  0,           0,           0,           0,           0,           0,           0,           0,           0,           0,           0,           0,           0,           0,           0,           0,           0,           0,           0,           0,           0,           0,           0,\n",
       "                  0,           0,           0,           0,           0,           0,           0,           0,           0,           0,           0]]), 'Confidence', 'F1'], [array([          0,    0.001001,    0.002002,    0.003003,    0.004004,    0.005005,    0.006006,    0.007007,    0.008008,    0.009009,     0.01001,    0.011011,    0.012012,    0.013013,    0.014014,    0.015015,    0.016016,    0.017017,    0.018018,    0.019019,     0.02002,    0.021021,    0.022022,    0.023023,\n",
       "          0.024024,    0.025025,    0.026026,    0.027027,    0.028028,    0.029029,     0.03003,    0.031031,    0.032032,    0.033033,    0.034034,    0.035035,    0.036036,    0.037037,    0.038038,    0.039039,     0.04004,    0.041041,    0.042042,    0.043043,    0.044044,    0.045045,    0.046046,    0.047047,\n",
       "          0.048048,    0.049049,     0.05005,    0.051051,    0.052052,    0.053053,    0.054054,    0.055055,    0.056056,    0.057057,    0.058058,    0.059059,     0.06006,    0.061061,    0.062062,    0.063063,    0.064064,    0.065065,    0.066066,    0.067067,    0.068068,    0.069069,     0.07007,    0.071071,\n",
       "          0.072072,    0.073073,    0.074074,    0.075075,    0.076076,    0.077077,    0.078078,    0.079079,     0.08008,    0.081081,    0.082082,    0.083083,    0.084084,    0.085085,    0.086086,    0.087087,    0.088088,    0.089089,     0.09009,    0.091091,    0.092092,    0.093093,    0.094094,    0.095095,\n",
       "          0.096096,    0.097097,    0.098098,    0.099099,      0.1001,      0.1011,      0.1021,      0.1031,      0.1041,     0.10511,     0.10611,     0.10711,     0.10811,     0.10911,     0.11011,     0.11111,     0.11211,     0.11311,     0.11411,     0.11512,     0.11612,     0.11712,     0.11812,     0.11912,\n",
       "           0.12012,     0.12112,     0.12212,     0.12312,     0.12412,     0.12513,     0.12613,     0.12713,     0.12813,     0.12913,     0.13013,     0.13113,     0.13213,     0.13313,     0.13413,     0.13514,     0.13614,     0.13714,     0.13814,     0.13914,     0.14014,     0.14114,     0.14214,     0.14314,\n",
       "           0.14414,     0.14515,     0.14615,     0.14715,     0.14815,     0.14915,     0.15015,     0.15115,     0.15215,     0.15315,     0.15415,     0.15516,     0.15616,     0.15716,     0.15816,     0.15916,     0.16016,     0.16116,     0.16216,     0.16316,     0.16416,     0.16517,     0.16617,     0.16717,\n",
       "           0.16817,     0.16917,     0.17017,     0.17117,     0.17217,     0.17317,     0.17417,     0.17518,     0.17618,     0.17718,     0.17818,     0.17918,     0.18018,     0.18118,     0.18218,     0.18318,     0.18418,     0.18519,     0.18619,     0.18719,     0.18819,     0.18919,     0.19019,     0.19119,\n",
       "           0.19219,     0.19319,     0.19419,      0.1952,      0.1962,      0.1972,      0.1982,      0.1992,      0.2002,      0.2012,      0.2022,      0.2032,      0.2042,     0.20521,     0.20621,     0.20721,     0.20821,     0.20921,     0.21021,     0.21121,     0.21221,     0.21321,     0.21421,     0.21522,\n",
       "           0.21622,     0.21722,     0.21822,     0.21922,     0.22022,     0.22122,     0.22222,     0.22322,     0.22422,     0.22523,     0.22623,     0.22723,     0.22823,     0.22923,     0.23023,     0.23123,     0.23223,     0.23323,     0.23423,     0.23524,     0.23624,     0.23724,     0.23824,     0.23924,\n",
       "           0.24024,     0.24124,     0.24224,     0.24324,     0.24424,     0.24525,     0.24625,     0.24725,     0.24825,     0.24925,     0.25025,     0.25125,     0.25225,     0.25325,     0.25425,     0.25526,     0.25626,     0.25726,     0.25826,     0.25926,     0.26026,     0.26126,     0.26226,     0.26326,\n",
       "           0.26426,     0.26527,     0.26627,     0.26727,     0.26827,     0.26927,     0.27027,     0.27127,     0.27227,     0.27327,     0.27427,     0.27528,     0.27628,     0.27728,     0.27828,     0.27928,     0.28028,     0.28128,     0.28228,     0.28328,     0.28428,     0.28529,     0.28629,     0.28729,\n",
       "           0.28829,     0.28929,     0.29029,     0.29129,     0.29229,     0.29329,     0.29429,      0.2953,      0.2963,      0.2973,      0.2983,      0.2993,      0.3003,      0.3013,      0.3023,      0.3033,      0.3043,     0.30531,     0.30631,     0.30731,     0.30831,     0.30931,     0.31031,     0.31131,\n",
       "           0.31231,     0.31331,     0.31431,     0.31532,     0.31632,     0.31732,     0.31832,     0.31932,     0.32032,     0.32132,     0.32232,     0.32332,     0.32432,     0.32533,     0.32633,     0.32733,     0.32833,     0.32933,     0.33033,     0.33133,     0.33233,     0.33333,     0.33433,     0.33534,\n",
       "           0.33634,     0.33734,     0.33834,     0.33934,     0.34034,     0.34134,     0.34234,     0.34334,     0.34434,     0.34535,     0.34635,     0.34735,     0.34835,     0.34935,     0.35035,     0.35135,     0.35235,     0.35335,     0.35435,     0.35536,     0.35636,     0.35736,     0.35836,     0.35936,\n",
       "           0.36036,     0.36136,     0.36236,     0.36336,     0.36436,     0.36537,     0.36637,     0.36737,     0.36837,     0.36937,     0.37037,     0.37137,     0.37237,     0.37337,     0.37437,     0.37538,     0.37638,     0.37738,     0.37838,     0.37938,     0.38038,     0.38138,     0.38238,     0.38338,\n",
       "           0.38438,     0.38539,     0.38639,     0.38739,     0.38839,     0.38939,     0.39039,     0.39139,     0.39239,     0.39339,     0.39439,      0.3954,      0.3964,      0.3974,      0.3984,      0.3994,      0.4004,      0.4014,      0.4024,      0.4034,      0.4044,     0.40541,     0.40641,     0.40741,\n",
       "           0.40841,     0.40941,     0.41041,     0.41141,     0.41241,     0.41341,     0.41441,     0.41542,     0.41642,     0.41742,     0.41842,     0.41942,     0.42042,     0.42142,     0.42242,     0.42342,     0.42442,     0.42543,     0.42643,     0.42743,     0.42843,     0.42943,     0.43043,     0.43143,\n",
       "           0.43243,     0.43343,     0.43443,     0.43544,     0.43644,     0.43744,     0.43844,     0.43944,     0.44044,     0.44144,     0.44244,     0.44344,     0.44444,     0.44545,     0.44645,     0.44745,     0.44845,     0.44945,     0.45045,     0.45145,     0.45245,     0.45345,     0.45445,     0.45546,\n",
       "           0.45646,     0.45746,     0.45846,     0.45946,     0.46046,     0.46146,     0.46246,     0.46346,     0.46446,     0.46547,     0.46647,     0.46747,     0.46847,     0.46947,     0.47047,     0.47147,     0.47247,     0.47347,     0.47447,     0.47548,     0.47648,     0.47748,     0.47848,     0.47948,\n",
       "           0.48048,     0.48148,     0.48248,     0.48348,     0.48448,     0.48549,     0.48649,     0.48749,     0.48849,     0.48949,     0.49049,     0.49149,     0.49249,     0.49349,     0.49449,      0.4955,      0.4965,      0.4975,      0.4985,      0.4995,      0.5005,      0.5015,      0.5025,      0.5035,\n",
       "            0.5045,     0.50551,     0.50651,     0.50751,     0.50851,     0.50951,     0.51051,     0.51151,     0.51251,     0.51351,     0.51451,     0.51552,     0.51652,     0.51752,     0.51852,     0.51952,     0.52052,     0.52152,     0.52252,     0.52352,     0.52452,     0.52553,     0.52653,     0.52753,\n",
       "           0.52853,     0.52953,     0.53053,     0.53153,     0.53253,     0.53353,     0.53453,     0.53554,     0.53654,     0.53754,     0.53854,     0.53954,     0.54054,     0.54154,     0.54254,     0.54354,     0.54454,     0.54555,     0.54655,     0.54755,     0.54855,     0.54955,     0.55055,     0.55155,\n",
       "           0.55255,     0.55355,     0.55455,     0.55556,     0.55656,     0.55756,     0.55856,     0.55956,     0.56056,     0.56156,     0.56256,     0.56356,     0.56456,     0.56557,     0.56657,     0.56757,     0.56857,     0.56957,     0.57057,     0.57157,     0.57257,     0.57357,     0.57457,     0.57558,\n",
       "           0.57658,     0.57758,     0.57858,     0.57958,     0.58058,     0.58158,     0.58258,     0.58358,     0.58458,     0.58559,     0.58659,     0.58759,     0.58859,     0.58959,     0.59059,     0.59159,     0.59259,     0.59359,     0.59459,      0.5956,      0.5966,      0.5976,      0.5986,      0.5996,\n",
       "            0.6006,      0.6016,      0.6026,      0.6036,      0.6046,     0.60561,     0.60661,     0.60761,     0.60861,     0.60961,     0.61061,     0.61161,     0.61261,     0.61361,     0.61461,     0.61562,     0.61662,     0.61762,     0.61862,     0.61962,     0.62062,     0.62162,     0.62262,     0.62362,\n",
       "           0.62462,     0.62563,     0.62663,     0.62763,     0.62863,     0.62963,     0.63063,     0.63163,     0.63263,     0.63363,     0.63463,     0.63564,     0.63664,     0.63764,     0.63864,     0.63964,     0.64064,     0.64164,     0.64264,     0.64364,     0.64464,     0.64565,     0.64665,     0.64765,\n",
       "           0.64865,     0.64965,     0.65065,     0.65165,     0.65265,     0.65365,     0.65465,     0.65566,     0.65666,     0.65766,     0.65866,     0.65966,     0.66066,     0.66166,     0.66266,     0.66366,     0.66466,     0.66567,     0.66667,     0.66767,     0.66867,     0.66967,     0.67067,     0.67167,\n",
       "           0.67267,     0.67367,     0.67467,     0.67568,     0.67668,     0.67768,     0.67868,     0.67968,     0.68068,     0.68168,     0.68268,     0.68368,     0.68468,     0.68569,     0.68669,     0.68769,     0.68869,     0.68969,     0.69069,     0.69169,     0.69269,     0.69369,     0.69469,      0.6957,\n",
       "            0.6967,      0.6977,      0.6987,      0.6997,      0.7007,      0.7017,      0.7027,      0.7037,      0.7047,     0.70571,     0.70671,     0.70771,     0.70871,     0.70971,     0.71071,     0.71171,     0.71271,     0.71371,     0.71471,     0.71572,     0.71672,     0.71772,     0.71872,     0.71972,\n",
       "           0.72072,     0.72172,     0.72272,     0.72372,     0.72472,     0.72573,     0.72673,     0.72773,     0.72873,     0.72973,     0.73073,     0.73173,     0.73273,     0.73373,     0.73473,     0.73574,     0.73674,     0.73774,     0.73874,     0.73974,     0.74074,     0.74174,     0.74274,     0.74374,\n",
       "           0.74474,     0.74575,     0.74675,     0.74775,     0.74875,     0.74975,     0.75075,     0.75175,     0.75275,     0.75375,     0.75475,     0.75576,     0.75676,     0.75776,     0.75876,     0.75976,     0.76076,     0.76176,     0.76276,     0.76376,     0.76476,     0.76577,     0.76677,     0.76777,\n",
       "           0.76877,     0.76977,     0.77077,     0.77177,     0.77277,     0.77377,     0.77477,     0.77578,     0.77678,     0.77778,     0.77878,     0.77978,     0.78078,     0.78178,     0.78278,     0.78378,     0.78478,     0.78579,     0.78679,     0.78779,     0.78879,     0.78979,     0.79079,     0.79179,\n",
       "           0.79279,     0.79379,     0.79479,      0.7958,      0.7968,      0.7978,      0.7988,      0.7998,      0.8008,      0.8018,      0.8028,      0.8038,      0.8048,     0.80581,     0.80681,     0.80781,     0.80881,     0.80981,     0.81081,     0.81181,     0.81281,     0.81381,     0.81481,     0.81582,\n",
       "           0.81682,     0.81782,     0.81882,     0.81982,     0.82082,     0.82182,     0.82282,     0.82382,     0.82482,     0.82583,     0.82683,     0.82783,     0.82883,     0.82983,     0.83083,     0.83183,     0.83283,     0.83383,     0.83483,     0.83584,     0.83684,     0.83784,     0.83884,     0.83984,\n",
       "           0.84084,     0.84184,     0.84284,     0.84384,     0.84484,     0.84585,     0.84685,     0.84785,     0.84885,     0.84985,     0.85085,     0.85185,     0.85285,     0.85385,     0.85485,     0.85586,     0.85686,     0.85786,     0.85886,     0.85986,     0.86086,     0.86186,     0.86286,     0.86386,\n",
       "           0.86486,     0.86587,     0.86687,     0.86787,     0.86887,     0.86987,     0.87087,     0.87187,     0.87287,     0.87387,     0.87487,     0.87588,     0.87688,     0.87788,     0.87888,     0.87988,     0.88088,     0.88188,     0.88288,     0.88388,     0.88488,     0.88589,     0.88689,     0.88789,\n",
       "           0.88889,     0.88989,     0.89089,     0.89189,     0.89289,     0.89389,     0.89489,      0.8959,      0.8969,      0.8979,      0.8989,      0.8999,      0.9009,      0.9019,      0.9029,      0.9039,      0.9049,     0.90591,     0.90691,     0.90791,     0.90891,     0.90991,     0.91091,     0.91191,\n",
       "           0.91291,     0.91391,     0.91491,     0.91592,     0.91692,     0.91792,     0.91892,     0.91992,     0.92092,     0.92192,     0.92292,     0.92392,     0.92492,     0.92593,     0.92693,     0.92793,     0.92893,     0.92993,     0.93093,     0.93193,     0.93293,     0.93393,     0.93493,     0.93594,\n",
       "           0.93694,     0.93794,     0.93894,     0.93994,     0.94094,     0.94194,     0.94294,     0.94394,     0.94494,     0.94595,     0.94695,     0.94795,     0.94895,     0.94995,     0.95095,     0.95195,     0.95295,     0.95395,     0.95495,     0.95596,     0.95696,     0.95796,     0.95896,     0.95996,\n",
       "           0.96096,     0.96196,     0.96296,     0.96396,     0.96496,     0.96597,     0.96697,     0.96797,     0.96897,     0.96997,     0.97097,     0.97197,     0.97297,     0.97397,     0.97497,     0.97598,     0.97698,     0.97798,     0.97898,     0.97998,     0.98098,     0.98198,     0.98298,     0.98398,\n",
       "           0.98498,     0.98599,     0.98699,     0.98799,     0.98899,     0.98999,     0.99099,     0.99199,     0.99299,     0.99399,     0.99499,       0.996,       0.997,       0.998,       0.999,           1]), array([[  0.0044853,   0.0044931,     0.32005,     0.39768,     0.45365,     0.49038,     0.53979,     0.57174,     0.60035,     0.62614,     0.65523,     0.67624,     0.68837,     0.70526,     0.70732,     0.72649,     0.73441,     0.73317,     0.73625,     0.74103,     0.75568,     0.76232,     0.78158,\n",
       "             0.7865,     0.79312,      0.7954,     0.79896,     0.80359,     0.80496,     0.80633,     0.80771,     0.80999,     0.81282,     0.82002,     0.82118,     0.82233,     0.82349,     0.82464,     0.82632,     0.82845,     0.83057,     0.83382,     0.83859,     0.84927,     0.85009,     0.85092,\n",
       "            0.85175,     0.85258,      0.8534,     0.85423,     0.85506,     0.86141,     0.86361,     0.86581,     0.86761,     0.86742,     0.86723,     0.86704,     0.86685,     0.86973,     0.87984,      0.8802,     0.88056,     0.88092,     0.88128,     0.88163,     0.88199,     0.88235,     0.88271,\n",
       "            0.88307,     0.88343,     0.88379,     0.88414,      0.8845,     0.88486,     0.88522,     0.88558,     0.88594,      0.8863,     0.89333,     0.89396,      0.8946,     0.89524,     0.89588,     0.89651,     0.89715,     0.89779,     0.89842,     0.89906,      0.8997,     0.90113,     0.90326,\n",
       "            0.90539,     0.90717,      0.9079,     0.90864,     0.90938,     0.91011,     0.91085,     0.91159,     0.91233,     0.91306,      0.9138,     0.91429,     0.91463,     0.91497,     0.91532,     0.91566,     0.91601,     0.91635,      0.9167,     0.91704,     0.91739,     0.91773,     0.91808,\n",
       "            0.91842,     0.91877,     0.91911,     0.91946,      0.9198,     0.92014,     0.92049,     0.92083,     0.92118,     0.92145,      0.9217,     0.92195,      0.9222,     0.92245,      0.9227,     0.92295,      0.9232,     0.92345,      0.9237,     0.92395,      0.9242,     0.92446,     0.92471,\n",
       "            0.92496,     0.92521,     0.92546,     0.92571,     0.92596,     0.92621,     0.92646,     0.92671,     0.92696,     0.92721,     0.92746,     0.92771,     0.92796,     0.92821,     0.92846,     0.92861,     0.92868,     0.92875,     0.92883,      0.9289,     0.92897,     0.92904,     0.92911,\n",
       "            0.92918,     0.92925,     0.92932,      0.9294,     0.92947,     0.92954,     0.92961,     0.92968,     0.92975,     0.92982,      0.9299,     0.92997,     0.93004,     0.93011,     0.93018,     0.93025,     0.93032,      0.9304,     0.93047,     0.93054,     0.93061,     0.93068,     0.93075,\n",
       "            0.93082,     0.93089,     0.93097,     0.93104,     0.93111,     0.93118,     0.93125,     0.93132,     0.93139,     0.93147,     0.93154,     0.93161,     0.93168,     0.93175,     0.93182,     0.93189,     0.93197,     0.93204,     0.93211,     0.93218,     0.93225,     0.93232,     0.93239,\n",
       "            0.93246,     0.93254,     0.93261,     0.93268,     0.93275,     0.93282,     0.93289,     0.93296,     0.93304,     0.93311,     0.93318,     0.93325,     0.93332,     0.93339,     0.93346,     0.93354,     0.93361,     0.93368,     0.93375,     0.93382,     0.93389,     0.93396,     0.93403,\n",
       "            0.93411,     0.93418,     0.93425,     0.93432,     0.93439,     0.93446,     0.93453,     0.93461,     0.93468,     0.93475,     0.93482,     0.93489,     0.93496,     0.93503,     0.93511,     0.93518,     0.93525,     0.93532,     0.93539,     0.93546,     0.93553,      0.9356,     0.93568,\n",
       "            0.93575,     0.93582,     0.93589,     0.93596,     0.93638,      0.9372,     0.93802,     0.93884,     0.93966,     0.94049,     0.94131,     0.94213,     0.94295,      0.9438,     0.94474,     0.94568,     0.94662,     0.94756,     0.94849,     0.94943,     0.95037,     0.95153,     0.95477,\n",
       "            0.95801,       0.959,     0.95898,     0.95895,     0.95893,      0.9589,     0.95888,     0.95886,     0.95883,     0.95881,     0.95879,     0.95876,     0.95874,     0.95871,     0.95869,     0.95867,     0.95866,     0.95866,     0.95865,     0.95864,     0.95863,     0.95862,     0.95861,\n",
       "             0.9586,     0.95859,     0.95858,     0.95857,     0.95856,     0.95856,     0.95855,     0.95854,     0.95853,     0.95852,     0.95851,      0.9585,     0.95849,     0.95848,     0.95847,     0.95846,     0.95846,     0.95845,     0.95844,     0.95843,     0.95842,     0.95841,      0.9584,\n",
       "            0.95839,     0.95838,     0.95837,     0.95836,     0.95836,     0.95835,     0.95834,     0.95833,     0.95832,     0.95831,     0.95831,      0.9583,     0.95829,     0.95828,     0.95827,     0.95827,     0.95826,     0.95825,     0.95824,     0.95823,     0.95823,     0.95822,     0.95821,\n",
       "             0.9582,     0.95819,     0.95819,     0.95818,     0.95817,     0.95816,     0.95815,     0.95815,     0.95814,     0.95813,     0.95812,     0.95812,     0.95811,      0.9581,     0.95809,     0.95808,     0.95808,     0.95807,     0.95806,     0.95805,     0.95804,     0.95804,     0.95803,\n",
       "            0.95802,     0.95801,       0.958,       0.958,     0.95799,     0.95811,      0.9585,     0.95888,     0.95926,     0.95964,     0.96002,      0.9604,     0.96079,     0.96117,     0.96155,     0.96193,     0.96231,      0.9627,     0.96308,     0.96346,     0.96384,     0.96422,      0.9646,\n",
       "            0.96499,     0.96537,     0.96575,     0.96611,     0.96622,     0.96634,     0.96645,     0.96657,     0.96668,     0.96679,     0.96691,     0.96702,     0.96714,     0.96725,     0.96736,     0.96748,     0.96759,      0.9677,     0.96782,     0.96793,     0.96805,     0.96816,     0.96827,\n",
       "            0.96839,      0.9685,     0.96862,     0.96873,     0.96884,     0.96896,     0.96907,     0.96918,      0.9693,     0.96941,     0.96953,     0.96964,     0.96975,     0.96987,     0.96998,     0.97009,     0.97021,     0.97032,     0.97044,     0.97055,     0.97066,     0.97078,     0.97089,\n",
       "            0.97101,     0.97112,     0.97123,     0.97135,     0.97146,     0.97157,     0.97169,      0.9718,     0.97192,     0.97203,     0.97214,     0.97226,     0.97237,     0.97249,      0.9726,     0.97271,     0.97283,     0.97294,     0.97305,     0.97317,     0.97328,      0.9734,     0.97351,\n",
       "            0.97362,     0.97374,     0.97385,     0.97397,     0.97408,     0.97419,     0.97431,      0.9743,      0.9742,     0.97414,     0.97413,     0.97412,     0.97411,     0.97411,      0.9741,     0.97409,     0.97409,     0.97408,     0.97407,     0.97407,     0.97406,     0.97405,     0.97404,\n",
       "            0.97404,     0.97403,     0.97402,     0.97402,     0.97401,       0.974,       0.974,     0.97399,     0.97398,     0.97397,     0.97397,     0.97396,     0.97395,     0.97395,     0.97394,     0.97393,     0.97393,     0.97392,     0.97391,      0.9739,      0.9739,     0.97389,     0.97388,\n",
       "            0.97387,     0.97387,     0.97386,     0.97385,     0.97384,     0.97384,     0.97383,     0.97382,     0.97381,     0.97381,      0.9738,     0.97379,     0.97378,     0.97378,     0.97377,     0.97376,     0.97376,     0.97375,     0.97374,     0.97373,     0.97373,     0.97372,     0.97371,\n",
       "             0.9737,      0.9737,     0.97369,     0.97357,     0.97333,     0.97321,     0.97321,      0.9732,     0.97319,     0.97319,     0.97318,     0.97318,     0.97317,     0.97317,     0.97316,     0.97315,     0.97315,     0.97314,     0.97314,     0.97313,     0.97313,     0.97312,     0.97311,\n",
       "            0.97311,      0.9731,      0.9731,     0.97309,     0.97309,     0.97308,     0.97307,     0.97307,     0.97306,     0.97306,     0.97305,     0.97305,     0.97304,     0.97303,     0.97303,     0.97302,     0.97302,     0.97301,     0.97301,       0.973,       0.973,     0.97299,     0.97298,\n",
       "            0.97298,     0.97297,     0.97291,     0.97286,     0.97281,     0.97275,     0.97256,      0.9724,     0.97229,     0.97262,     0.97369,     0.97475,     0.97581,     0.97688,     0.97794,       0.979,     0.98006,     0.98113,     0.98128,     0.98125,     0.98123,      0.9812,     0.98117,\n",
       "            0.98114,     0.98112,      0.9811,     0.98109,     0.98107,     0.98105,     0.98104,     0.98102,       0.981,     0.98099,     0.98097,     0.98096,     0.98081,     0.98075,     0.98073,     0.98071,     0.98069,     0.98067,     0.98065,     0.98063,     0.98061,     0.98059,     0.98058,\n",
       "            0.98057,     0.98057,     0.98056,     0.98055,     0.98055,     0.98054,     0.98054,     0.98053,     0.98052,     0.98052,     0.98051,      0.9805,      0.9805,     0.98049,     0.98049,     0.98048,     0.98047,     0.98047,     0.98046,     0.98046,     0.98045,     0.98044,     0.98044,\n",
       "            0.98043,     0.98043,     0.98042,     0.98041,     0.98041,      0.9804,     0.98039,     0.98038,     0.98037,     0.98035,     0.98033,     0.98031,      0.9803,     0.98028,     0.98026,     0.98025,     0.98023,     0.98021,     0.98019,     0.98017,     0.98014,     0.98011,     0.98008,\n",
       "            0.98005,     0.98002,     0.97995,     0.97979,     0.97977,     0.97974,     0.97972,      0.9797,     0.97968,     0.97965,     0.97963,     0.97961,     0.97958,     0.97952,     0.97947,     0.97941,     0.97935,     0.97929,     0.97924,     0.97918,     0.97912,     0.97906,       0.979,\n",
       "            0.97895,     0.97893,     0.97892,      0.9789,     0.97889,     0.97887,     0.97886,     0.97884,     0.97883,     0.97881,      0.9788,     0.97878,     0.97877,     0.97875,     0.97874,     0.97872,     0.97868,     0.97864,     0.97861,     0.97857,     0.97853,     0.97849,     0.97845,\n",
       "             0.9784,     0.97835,     0.97831,     0.97826,     0.97823,      0.9782,     0.97817,     0.97815,     0.97812,     0.97809,     0.97806,     0.97803,     0.97799,     0.97795,     0.97791,     0.97786,     0.97782,     0.97777,     0.97769,     0.97761,     0.97754,     0.97745,     0.97737,\n",
       "            0.97728,     0.97705,     0.97685,     0.97671,     0.97664,     0.97657,      0.9765,     0.97642,     0.97633,     0.97624,     0.97971,     0.98713,     0.98788,      0.9878,     0.98779,     0.98777,     0.98776,     0.98774,     0.98772,     0.98771,     0.98769,     0.98768,     0.98766,\n",
       "            0.98762,     0.98756,     0.98729,     0.99731,           1,           1,           1,           1,           1,           1,           1,           1,           1,           1,           1,           1,           1,           1,           1,           1,           1,           1,           1,\n",
       "                  1,           1,           1,           1,           1,           1,           1,           1,           1,           1,           1,           1,           1,           1,           1,           1,           1,           1,           1,           1,           1,           1,           1,\n",
       "                  1,           1,           1,           1,           1,           1,           1,           1,           1,           1,           1,           1,           1,           1,           1,           1,           1,           1,           1,           1,           1,           1,           1,\n",
       "                  1,           1,           1,           1,           1,           1,           1,           1,           1,           1,           1,           1,           1,           1,           1,           1,           1,           1,           1,           1,           1,           1,           1,\n",
       "                  1,           1,           1,           1,           1,           1,           1,           1,           1,           1,           1,           1,           1,           1,           1,           1,           1,           1,           1,           1,           1,           1,           1,\n",
       "                  1,           1,           1,           1,           1,           1,           1,           1,           1,           1,           1,           1,           1,           1,           1,           1,           1,           1,           1,           1,           1,           1,           1,\n",
       "                  1,           1,           1,           1,           1,           1,           1,           1,           1,           1,           1,           1,           1,           1,           1,           1,           1,           1,           1,           1,           1,           1,           1,\n",
       "                  1,           1,           1,           1,           1,           1,           1,           1,           1,           1,           1,           1,           1,           1,           1,           1,           1,           1,           1,           1,           1,           1,           1,\n",
       "                  1,           1,           1,           1,           1,           1,           1,           1,           1,           1,           1,           1,           1,           1,           1,           1,           1,           1,           1,           1,           1,           1,           1,\n",
       "                  1,           1,           1,           1,           1,           1,           1,           1,           1,           1,           1,           1,           1,           1,           1,           1,           1,           1,           1,           1,           1,           1,           1,\n",
       "                  1,           1,           1,           1,           1,           1,           1,           1,           1,           1,           1]]), 'Confidence', 'Precision'], [array([          0,    0.001001,    0.002002,    0.003003,    0.004004,    0.005005,    0.006006,    0.007007,    0.008008,    0.009009,     0.01001,    0.011011,    0.012012,    0.013013,    0.014014,    0.015015,    0.016016,    0.017017,    0.018018,    0.019019,     0.02002,    0.021021,    0.022022,    0.023023,\n",
       "          0.024024,    0.025025,    0.026026,    0.027027,    0.028028,    0.029029,     0.03003,    0.031031,    0.032032,    0.033033,    0.034034,    0.035035,    0.036036,    0.037037,    0.038038,    0.039039,     0.04004,    0.041041,    0.042042,    0.043043,    0.044044,    0.045045,    0.046046,    0.047047,\n",
       "          0.048048,    0.049049,     0.05005,    0.051051,    0.052052,    0.053053,    0.054054,    0.055055,    0.056056,    0.057057,    0.058058,    0.059059,     0.06006,    0.061061,    0.062062,    0.063063,    0.064064,    0.065065,    0.066066,    0.067067,    0.068068,    0.069069,     0.07007,    0.071071,\n",
       "          0.072072,    0.073073,    0.074074,    0.075075,    0.076076,    0.077077,    0.078078,    0.079079,     0.08008,    0.081081,    0.082082,    0.083083,    0.084084,    0.085085,    0.086086,    0.087087,    0.088088,    0.089089,     0.09009,    0.091091,    0.092092,    0.093093,    0.094094,    0.095095,\n",
       "          0.096096,    0.097097,    0.098098,    0.099099,      0.1001,      0.1011,      0.1021,      0.1031,      0.1041,     0.10511,     0.10611,     0.10711,     0.10811,     0.10911,     0.11011,     0.11111,     0.11211,     0.11311,     0.11411,     0.11512,     0.11612,     0.11712,     0.11812,     0.11912,\n",
       "           0.12012,     0.12112,     0.12212,     0.12312,     0.12412,     0.12513,     0.12613,     0.12713,     0.12813,     0.12913,     0.13013,     0.13113,     0.13213,     0.13313,     0.13413,     0.13514,     0.13614,     0.13714,     0.13814,     0.13914,     0.14014,     0.14114,     0.14214,     0.14314,\n",
       "           0.14414,     0.14515,     0.14615,     0.14715,     0.14815,     0.14915,     0.15015,     0.15115,     0.15215,     0.15315,     0.15415,     0.15516,     0.15616,     0.15716,     0.15816,     0.15916,     0.16016,     0.16116,     0.16216,     0.16316,     0.16416,     0.16517,     0.16617,     0.16717,\n",
       "           0.16817,     0.16917,     0.17017,     0.17117,     0.17217,     0.17317,     0.17417,     0.17518,     0.17618,     0.17718,     0.17818,     0.17918,     0.18018,     0.18118,     0.18218,     0.18318,     0.18418,     0.18519,     0.18619,     0.18719,     0.18819,     0.18919,     0.19019,     0.19119,\n",
       "           0.19219,     0.19319,     0.19419,      0.1952,      0.1962,      0.1972,      0.1982,      0.1992,      0.2002,      0.2012,      0.2022,      0.2032,      0.2042,     0.20521,     0.20621,     0.20721,     0.20821,     0.20921,     0.21021,     0.21121,     0.21221,     0.21321,     0.21421,     0.21522,\n",
       "           0.21622,     0.21722,     0.21822,     0.21922,     0.22022,     0.22122,     0.22222,     0.22322,     0.22422,     0.22523,     0.22623,     0.22723,     0.22823,     0.22923,     0.23023,     0.23123,     0.23223,     0.23323,     0.23423,     0.23524,     0.23624,     0.23724,     0.23824,     0.23924,\n",
       "           0.24024,     0.24124,     0.24224,     0.24324,     0.24424,     0.24525,     0.24625,     0.24725,     0.24825,     0.24925,     0.25025,     0.25125,     0.25225,     0.25325,     0.25425,     0.25526,     0.25626,     0.25726,     0.25826,     0.25926,     0.26026,     0.26126,     0.26226,     0.26326,\n",
       "           0.26426,     0.26527,     0.26627,     0.26727,     0.26827,     0.26927,     0.27027,     0.27127,     0.27227,     0.27327,     0.27427,     0.27528,     0.27628,     0.27728,     0.27828,     0.27928,     0.28028,     0.28128,     0.28228,     0.28328,     0.28428,     0.28529,     0.28629,     0.28729,\n",
       "           0.28829,     0.28929,     0.29029,     0.29129,     0.29229,     0.29329,     0.29429,      0.2953,      0.2963,      0.2973,      0.2983,      0.2993,      0.3003,      0.3013,      0.3023,      0.3033,      0.3043,     0.30531,     0.30631,     0.30731,     0.30831,     0.30931,     0.31031,     0.31131,\n",
       "           0.31231,     0.31331,     0.31431,     0.31532,     0.31632,     0.31732,     0.31832,     0.31932,     0.32032,     0.32132,     0.32232,     0.32332,     0.32432,     0.32533,     0.32633,     0.32733,     0.32833,     0.32933,     0.33033,     0.33133,     0.33233,     0.33333,     0.33433,     0.33534,\n",
       "           0.33634,     0.33734,     0.33834,     0.33934,     0.34034,     0.34134,     0.34234,     0.34334,     0.34434,     0.34535,     0.34635,     0.34735,     0.34835,     0.34935,     0.35035,     0.35135,     0.35235,     0.35335,     0.35435,     0.35536,     0.35636,     0.35736,     0.35836,     0.35936,\n",
       "           0.36036,     0.36136,     0.36236,     0.36336,     0.36436,     0.36537,     0.36637,     0.36737,     0.36837,     0.36937,     0.37037,     0.37137,     0.37237,     0.37337,     0.37437,     0.37538,     0.37638,     0.37738,     0.37838,     0.37938,     0.38038,     0.38138,     0.38238,     0.38338,\n",
       "           0.38438,     0.38539,     0.38639,     0.38739,     0.38839,     0.38939,     0.39039,     0.39139,     0.39239,     0.39339,     0.39439,      0.3954,      0.3964,      0.3974,      0.3984,      0.3994,      0.4004,      0.4014,      0.4024,      0.4034,      0.4044,     0.40541,     0.40641,     0.40741,\n",
       "           0.40841,     0.40941,     0.41041,     0.41141,     0.41241,     0.41341,     0.41441,     0.41542,     0.41642,     0.41742,     0.41842,     0.41942,     0.42042,     0.42142,     0.42242,     0.42342,     0.42442,     0.42543,     0.42643,     0.42743,     0.42843,     0.42943,     0.43043,     0.43143,\n",
       "           0.43243,     0.43343,     0.43443,     0.43544,     0.43644,     0.43744,     0.43844,     0.43944,     0.44044,     0.44144,     0.44244,     0.44344,     0.44444,     0.44545,     0.44645,     0.44745,     0.44845,     0.44945,     0.45045,     0.45145,     0.45245,     0.45345,     0.45445,     0.45546,\n",
       "           0.45646,     0.45746,     0.45846,     0.45946,     0.46046,     0.46146,     0.46246,     0.46346,     0.46446,     0.46547,     0.46647,     0.46747,     0.46847,     0.46947,     0.47047,     0.47147,     0.47247,     0.47347,     0.47447,     0.47548,     0.47648,     0.47748,     0.47848,     0.47948,\n",
       "           0.48048,     0.48148,     0.48248,     0.48348,     0.48448,     0.48549,     0.48649,     0.48749,     0.48849,     0.48949,     0.49049,     0.49149,     0.49249,     0.49349,     0.49449,      0.4955,      0.4965,      0.4975,      0.4985,      0.4995,      0.5005,      0.5015,      0.5025,      0.5035,\n",
       "            0.5045,     0.50551,     0.50651,     0.50751,     0.50851,     0.50951,     0.51051,     0.51151,     0.51251,     0.51351,     0.51451,     0.51552,     0.51652,     0.51752,     0.51852,     0.51952,     0.52052,     0.52152,     0.52252,     0.52352,     0.52452,     0.52553,     0.52653,     0.52753,\n",
       "           0.52853,     0.52953,     0.53053,     0.53153,     0.53253,     0.53353,     0.53453,     0.53554,     0.53654,     0.53754,     0.53854,     0.53954,     0.54054,     0.54154,     0.54254,     0.54354,     0.54454,     0.54555,     0.54655,     0.54755,     0.54855,     0.54955,     0.55055,     0.55155,\n",
       "           0.55255,     0.55355,     0.55455,     0.55556,     0.55656,     0.55756,     0.55856,     0.55956,     0.56056,     0.56156,     0.56256,     0.56356,     0.56456,     0.56557,     0.56657,     0.56757,     0.56857,     0.56957,     0.57057,     0.57157,     0.57257,     0.57357,     0.57457,     0.57558,\n",
       "           0.57658,     0.57758,     0.57858,     0.57958,     0.58058,     0.58158,     0.58258,     0.58358,     0.58458,     0.58559,     0.58659,     0.58759,     0.58859,     0.58959,     0.59059,     0.59159,     0.59259,     0.59359,     0.59459,      0.5956,      0.5966,      0.5976,      0.5986,      0.5996,\n",
       "            0.6006,      0.6016,      0.6026,      0.6036,      0.6046,     0.60561,     0.60661,     0.60761,     0.60861,     0.60961,     0.61061,     0.61161,     0.61261,     0.61361,     0.61461,     0.61562,     0.61662,     0.61762,     0.61862,     0.61962,     0.62062,     0.62162,     0.62262,     0.62362,\n",
       "           0.62462,     0.62563,     0.62663,     0.62763,     0.62863,     0.62963,     0.63063,     0.63163,     0.63263,     0.63363,     0.63463,     0.63564,     0.63664,     0.63764,     0.63864,     0.63964,     0.64064,     0.64164,     0.64264,     0.64364,     0.64464,     0.64565,     0.64665,     0.64765,\n",
       "           0.64865,     0.64965,     0.65065,     0.65165,     0.65265,     0.65365,     0.65465,     0.65566,     0.65666,     0.65766,     0.65866,     0.65966,     0.66066,     0.66166,     0.66266,     0.66366,     0.66466,     0.66567,     0.66667,     0.66767,     0.66867,     0.66967,     0.67067,     0.67167,\n",
       "           0.67267,     0.67367,     0.67467,     0.67568,     0.67668,     0.67768,     0.67868,     0.67968,     0.68068,     0.68168,     0.68268,     0.68368,     0.68468,     0.68569,     0.68669,     0.68769,     0.68869,     0.68969,     0.69069,     0.69169,     0.69269,     0.69369,     0.69469,      0.6957,\n",
       "            0.6967,      0.6977,      0.6987,      0.6997,      0.7007,      0.7017,      0.7027,      0.7037,      0.7047,     0.70571,     0.70671,     0.70771,     0.70871,     0.70971,     0.71071,     0.71171,     0.71271,     0.71371,     0.71471,     0.71572,     0.71672,     0.71772,     0.71872,     0.71972,\n",
       "           0.72072,     0.72172,     0.72272,     0.72372,     0.72472,     0.72573,     0.72673,     0.72773,     0.72873,     0.72973,     0.73073,     0.73173,     0.73273,     0.73373,     0.73473,     0.73574,     0.73674,     0.73774,     0.73874,     0.73974,     0.74074,     0.74174,     0.74274,     0.74374,\n",
       "           0.74474,     0.74575,     0.74675,     0.74775,     0.74875,     0.74975,     0.75075,     0.75175,     0.75275,     0.75375,     0.75475,     0.75576,     0.75676,     0.75776,     0.75876,     0.75976,     0.76076,     0.76176,     0.76276,     0.76376,     0.76476,     0.76577,     0.76677,     0.76777,\n",
       "           0.76877,     0.76977,     0.77077,     0.77177,     0.77277,     0.77377,     0.77477,     0.77578,     0.77678,     0.77778,     0.77878,     0.77978,     0.78078,     0.78178,     0.78278,     0.78378,     0.78478,     0.78579,     0.78679,     0.78779,     0.78879,     0.78979,     0.79079,     0.79179,\n",
       "           0.79279,     0.79379,     0.79479,      0.7958,      0.7968,      0.7978,      0.7988,      0.7998,      0.8008,      0.8018,      0.8028,      0.8038,      0.8048,     0.80581,     0.80681,     0.80781,     0.80881,     0.80981,     0.81081,     0.81181,     0.81281,     0.81381,     0.81481,     0.81582,\n",
       "           0.81682,     0.81782,     0.81882,     0.81982,     0.82082,     0.82182,     0.82282,     0.82382,     0.82482,     0.82583,     0.82683,     0.82783,     0.82883,     0.82983,     0.83083,     0.83183,     0.83283,     0.83383,     0.83483,     0.83584,     0.83684,     0.83784,     0.83884,     0.83984,\n",
       "           0.84084,     0.84184,     0.84284,     0.84384,     0.84484,     0.84585,     0.84685,     0.84785,     0.84885,     0.84985,     0.85085,     0.85185,     0.85285,     0.85385,     0.85485,     0.85586,     0.85686,     0.85786,     0.85886,     0.85986,     0.86086,     0.86186,     0.86286,     0.86386,\n",
       "           0.86486,     0.86587,     0.86687,     0.86787,     0.86887,     0.86987,     0.87087,     0.87187,     0.87287,     0.87387,     0.87487,     0.87588,     0.87688,     0.87788,     0.87888,     0.87988,     0.88088,     0.88188,     0.88288,     0.88388,     0.88488,     0.88589,     0.88689,     0.88789,\n",
       "           0.88889,     0.88989,     0.89089,     0.89189,     0.89289,     0.89389,     0.89489,      0.8959,      0.8969,      0.8979,      0.8989,      0.8999,      0.9009,      0.9019,      0.9029,      0.9039,      0.9049,     0.90591,     0.90691,     0.90791,     0.90891,     0.90991,     0.91091,     0.91191,\n",
       "           0.91291,     0.91391,     0.91491,     0.91592,     0.91692,     0.91792,     0.91892,     0.91992,     0.92092,     0.92192,     0.92292,     0.92392,     0.92492,     0.92593,     0.92693,     0.92793,     0.92893,     0.92993,     0.93093,     0.93193,     0.93293,     0.93393,     0.93493,     0.93594,\n",
       "           0.93694,     0.93794,     0.93894,     0.93994,     0.94094,     0.94194,     0.94294,     0.94394,     0.94494,     0.94595,     0.94695,     0.94795,     0.94895,     0.94995,     0.95095,     0.95195,     0.95295,     0.95395,     0.95495,     0.95596,     0.95696,     0.95796,     0.95896,     0.95996,\n",
       "           0.96096,     0.96196,     0.96296,     0.96396,     0.96496,     0.96597,     0.96697,     0.96797,     0.96897,     0.96997,     0.97097,     0.97197,     0.97297,     0.97397,     0.97497,     0.97598,     0.97698,     0.97798,     0.97898,     0.97998,     0.98098,     0.98198,     0.98298,     0.98398,\n",
       "           0.98498,     0.98599,     0.98699,     0.98799,     0.98899,     0.98999,     0.99099,     0.99199,     0.99299,     0.99399,     0.99499,       0.996,       0.997,       0.998,       0.999,           1]), array([[          1,           1,           1,     0.99167,     0.99167,     0.99167,     0.99167,     0.99167,     0.99167,     0.99167,     0.99167,     0.99167,     0.99167,     0.99167,     0.99167,     0.99167,     0.99167,      0.9846,     0.98333,     0.98333,     0.98333,     0.98333,     0.98333,\n",
       "            0.98333,     0.98333,     0.98333,     0.98333,     0.98333,     0.98333,     0.98333,     0.98333,     0.98333,     0.98333,     0.98333,     0.98333,     0.98333,     0.98333,     0.98333,     0.98333,     0.98333,     0.98333,     0.98333,     0.98333,     0.98333,     0.98333,     0.98333,\n",
       "            0.98333,     0.98333,     0.98333,     0.98333,     0.98333,     0.98333,     0.98333,     0.98333,     0.98306,     0.98143,      0.9798,     0.97816,     0.97653,       0.975,       0.975,       0.975,       0.975,       0.975,       0.975,       0.975,       0.975,       0.975,       0.975,\n",
       "              0.975,       0.975,       0.975,       0.975,       0.975,       0.975,       0.975,       0.975,       0.975,       0.975,       0.975,       0.975,       0.975,       0.975,       0.975,       0.975,       0.975,       0.975,       0.975,       0.975,       0.975,       0.975,       0.975,\n",
       "              0.975,       0.975,       0.975,       0.975,       0.975,       0.975,       0.975,       0.975,       0.975,       0.975,       0.975,       0.975,       0.975,       0.975,       0.975,       0.975,       0.975,       0.975,       0.975,       0.975,       0.975,       0.975,       0.975,\n",
       "              0.975,       0.975,       0.975,       0.975,       0.975,       0.975,       0.975,       0.975,       0.975,       0.975,       0.975,       0.975,       0.975,       0.975,       0.975,       0.975,       0.975,       0.975,       0.975,       0.975,       0.975,       0.975,       0.975,\n",
       "              0.975,       0.975,       0.975,       0.975,       0.975,       0.975,       0.975,       0.975,       0.975,       0.975,       0.975,       0.975,       0.975,       0.975,       0.975,       0.975,       0.975,       0.975,       0.975,       0.975,       0.975,       0.975,       0.975,\n",
       "              0.975,       0.975,       0.975,       0.975,       0.975,       0.975,       0.975,       0.975,       0.975,       0.975,       0.975,       0.975,       0.975,       0.975,       0.975,       0.975,       0.975,       0.975,       0.975,       0.975,       0.975,       0.975,       0.975,\n",
       "              0.975,       0.975,       0.975,       0.975,       0.975,       0.975,       0.975,       0.975,       0.975,       0.975,       0.975,       0.975,       0.975,       0.975,       0.975,       0.975,       0.975,       0.975,       0.975,       0.975,       0.975,       0.975,       0.975,\n",
       "              0.975,       0.975,       0.975,       0.975,       0.975,       0.975,       0.975,       0.975,       0.975,       0.975,       0.975,       0.975,       0.975,       0.975,       0.975,       0.975,       0.975,       0.975,       0.975,       0.975,       0.975,       0.975,       0.975,\n",
       "              0.975,       0.975,       0.975,       0.975,       0.975,       0.975,       0.975,       0.975,       0.975,       0.975,       0.975,       0.975,       0.975,       0.975,       0.975,       0.975,       0.975,       0.975,       0.975,       0.975,       0.975,       0.975,       0.975,\n",
       "              0.975,       0.975,       0.975,       0.975,       0.975,       0.975,       0.975,       0.975,       0.975,       0.975,       0.975,       0.975,       0.975,       0.975,       0.975,       0.975,       0.975,       0.975,       0.975,       0.975,       0.975,       0.975,       0.975,\n",
       "              0.975,      0.9746,     0.97401,     0.97343,     0.97284,     0.97225,     0.97167,     0.97108,      0.9705,     0.96991,     0.96933,     0.96874,     0.96816,     0.96757,     0.96699,     0.96657,     0.96635,     0.96613,     0.96591,     0.96569,     0.96547,     0.96525,     0.96503,\n",
       "            0.96481,     0.96459,     0.96437,     0.96415,     0.96393,     0.96371,     0.96349,     0.96327,     0.96305,     0.96283,     0.96261,     0.96239,     0.96217,     0.96195,     0.96173,     0.96151,      0.9613,     0.96108,     0.96086,     0.96064,     0.96042,      0.9602,     0.95998,\n",
       "            0.95976,     0.95954,     0.95932,      0.9591,     0.95888,     0.95866,     0.95844,     0.95824,     0.95805,     0.95786,     0.95767,     0.95748,     0.95729,      0.9571,     0.95692,     0.95673,     0.95654,     0.95635,     0.95616,     0.95597,     0.95578,      0.9556,     0.95541,\n",
       "            0.95522,     0.95503,     0.95484,     0.95465,     0.95446,     0.95427,     0.95409,      0.9539,     0.95371,     0.95352,     0.95333,     0.95314,     0.95295,     0.95277,     0.95258,     0.95239,      0.9522,     0.95201,     0.95182,     0.95163,     0.95144,     0.95126,     0.95107,\n",
       "            0.95088,     0.95069,      0.9505,     0.95031,     0.95012,        0.95,        0.95,        0.95,        0.95,        0.95,        0.95,        0.95,        0.95,        0.95,        0.95,        0.95,        0.95,        0.95,        0.95,        0.95,        0.95,        0.95,        0.95,\n",
       "               0.95,        0.95,        0.95,        0.95,        0.95,        0.95,        0.95,        0.95,        0.95,        0.95,        0.95,        0.95,        0.95,        0.95,        0.95,        0.95,        0.95,        0.95,        0.95,        0.95,        0.95,        0.95,        0.95,\n",
       "               0.95,        0.95,        0.95,        0.95,        0.95,        0.95,        0.95,        0.95,        0.95,        0.95,        0.95,        0.95,        0.95,        0.95,        0.95,        0.95,        0.95,        0.95,        0.95,        0.95,        0.95,        0.95,        0.95,\n",
       "               0.95,        0.95,        0.95,        0.95,        0.95,        0.95,        0.95,        0.95,        0.95,        0.95,        0.95,        0.95,        0.95,        0.95,        0.95,        0.95,        0.95,        0.95,        0.95,        0.95,        0.95,        0.95,        0.95,\n",
       "               0.95,        0.95,        0.95,        0.95,        0.95,        0.95,        0.95,     0.94794,     0.94413,     0.94158,     0.94132,     0.94106,      0.9408,     0.94054,     0.94028,     0.94002,     0.93976,      0.9395,     0.93924,     0.93899,     0.93873,     0.93847,     0.93821,\n",
       "            0.93795,     0.93769,     0.93743,     0.93717,     0.93691,     0.93666,      0.9364,     0.93614,     0.93588,     0.93562,     0.93536,      0.9351,     0.93484,     0.93458,     0.93432,     0.93407,     0.93381,     0.93355,     0.93329,     0.93301,     0.93274,     0.93247,      0.9322,\n",
       "            0.93193,     0.93166,     0.93138,     0.93111,     0.93084,     0.93057,      0.9303,     0.93003,     0.92975,     0.92948,     0.92921,     0.92894,     0.92867,      0.9284,     0.92812,     0.92785,     0.92758,     0.92731,     0.92704,     0.92676,     0.92649,     0.92622,     0.92595,\n",
       "            0.92568,     0.92541,     0.92513,     0.92077,     0.91241,     0.90823,     0.90804,     0.90784,     0.90764,     0.90745,     0.90725,     0.90705,     0.90686,     0.90666,     0.90646,     0.90627,     0.90607,     0.90587,     0.90568,     0.90548,     0.90529,     0.90509,     0.90489,\n",
       "             0.9047,      0.9045,      0.9043,     0.90411,     0.90391,     0.90371,     0.90352,     0.90332,     0.90312,     0.90293,     0.90273,     0.90253,     0.90234,     0.90214,     0.90195,     0.90175,     0.90155,     0.90136,     0.90116,     0.90096,     0.90077,     0.90057,     0.90037,\n",
       "            0.90018,     0.89982,       0.898,     0.89618,     0.89437,     0.89255,     0.88604,     0.88069,     0.87718,       0.875,       0.875,       0.875,       0.875,       0.875,       0.875,       0.875,       0.875,       0.875,     0.87386,     0.87247,     0.87109,     0.86971,     0.86833,\n",
       "            0.86695,     0.86606,      0.8653,     0.86454,     0.86378,     0.86302,     0.86226,      0.8615,     0.86074,     0.85998,     0.85922,     0.85846,     0.85189,      0.8493,     0.84838,     0.84746,     0.84654,     0.84562,      0.8447,     0.84378,     0.84285,     0.84193,     0.84148,\n",
       "            0.84121,     0.84094,     0.84067,     0.84041,     0.84014,     0.83987,      0.8396,     0.83934,     0.83907,      0.8388,     0.83853,     0.83826,       0.838,     0.83773,     0.83746,     0.83719,     0.83693,     0.83666,     0.83639,     0.83612,     0.83586,     0.83559,     0.83532,\n",
       "            0.83505,     0.83479,     0.83452,     0.83425,     0.83398,     0.83371,     0.83345,     0.83291,     0.83219,     0.83146,     0.83073,        0.83,     0.82928,     0.82855,     0.82782,     0.82709,     0.82636,     0.82564,     0.82485,     0.82364,     0.82244,     0.82124,     0.82003,\n",
       "            0.81883,     0.81763,     0.81463,     0.80799,     0.80707,     0.80615,     0.80523,     0.80432,      0.8034,     0.80248,     0.80156,     0.80064,     0.79934,     0.79716,     0.79499,     0.79281,     0.79059,     0.78831,     0.78603,     0.78376,     0.78148,      0.7792,     0.77692,\n",
       "            0.77491,     0.77436,      0.7738,     0.77325,     0.77269,     0.77213,     0.77158,     0.77102,     0.77047,     0.76991,     0.76935,      0.7688,     0.76824,     0.76769,     0.76713,     0.76644,     0.76509,     0.76374,     0.76239,     0.76104,     0.75969,     0.75834,     0.75667,\n",
       "            0.75499,     0.75331,     0.75164,     0.74998,     0.74898,     0.74799,       0.747,       0.746,     0.74501,     0.74402,     0.74302,     0.74203,     0.74071,      0.7392,     0.73769,     0.73618,     0.73468,     0.73305,     0.73047,     0.72789,     0.72531,     0.72257,      0.7198,\n",
       "            0.71704,     0.70968,     0.70317,     0.69897,     0.69686,     0.69475,     0.69265,     0.69021,     0.68749,     0.68476,     0.68333,     0.68333,      0.6792,     0.67492,     0.67405,     0.67317,      0.6723,     0.67143,     0.67056,     0.66969,     0.66881,     0.66794,     0.66707,\n",
       "            0.66479,     0.66131,     0.64747,     0.64167,      0.6393,     0.63616,     0.63321,     0.63197,     0.63073,     0.62949,     0.62825,     0.62701,     0.62576,     0.62468,     0.62385,     0.62302,     0.62219,     0.62135,     0.62052,     0.61969,     0.61886,     0.61803,      0.6172,\n",
       "            0.61598,     0.61408,     0.61218,     0.61028,     0.60839,      0.5982,     0.58929,     0.58322,     0.58085,     0.57849,     0.57612,     0.56568,     0.56217,     0.55866,     0.55622,     0.55388,     0.55154,     0.54895,     0.54585,     0.54274,     0.53951,     0.53621,     0.53224,\n",
       "            0.52476,     0.52322,     0.52168,     0.52014,      0.5186,     0.51706,     0.50711,     0.50427,     0.50143,     0.49914,      0.4974,     0.49567,     0.49393,      0.4922,     0.48797,     0.48277,     0.47853,     0.47451,     0.47157,     0.46862,     0.46403,     0.45542,     0.43953,\n",
       "            0.43193,     0.42282,     0.41858,     0.41353,     0.40602,     0.39351,     0.38859,     0.38466,     0.37931,     0.37337,     0.36777,     0.35671,     0.35318,     0.34984,     0.34815,     0.34647,     0.34479,     0.34311,     0.34028,     0.33209,     0.32799,     0.32044,     0.31468,\n",
       "            0.31211,     0.30954,     0.30488,     0.29082,     0.28358,     0.27842,     0.27198,     0.26111,     0.24831,     0.24119,     0.23834,     0.23549,      0.2246,     0.22164,     0.21869,     0.21356,     0.20213,     0.19359,     0.18802,     0.18323,     0.18078,     0.17832,     0.17586,\n",
       "             0.1713,      0.1641,     0.15547,      0.1506,     0.14456,     0.13291,     0.13037,     0.12783,     0.12529,     0.12179,     0.11815,    0.099323,    0.096148,    0.092974,    0.090652,    0.088928,    0.087204,    0.085479,    0.083755,     0.07868,    0.069515,    0.064169,     0.06101,\n",
       "           0.057123,     0.04825,    0.041237,    0.040531,    0.039826,    0.039121,    0.038416,    0.037711,    0.037006,    0.036301,    0.035595,     0.03489,    0.034185,     0.03348,    0.027667,    0.024697,    0.024214,     0.02373,    0.023247,    0.022764,    0.022281,    0.021798,    0.021314,\n",
       "           0.020831,    0.020348,    0.019865,    0.019382,    0.018898,    0.018415,    0.017932,    0.017449,    0.016965,    0.016265,    0.015213,     0.01416,    0.013108,    0.012055,    0.011003,   0.0099505,   0.0088981,           0,           0,           0,           0,           0,           0,\n",
       "                  0,           0,           0,           0,           0,           0,           0,           0,           0,           0,           0,           0,           0,           0,           0,           0,           0,           0,           0,           0,           0,           0,           0,\n",
       "                  0,           0,           0,           0,           0,           0,           0,           0,           0,           0,           0,           0,           0,           0,           0,           0,           0,           0,           0,           0,           0,           0,           0,\n",
       "                  0,           0,           0,           0,           0,           0,           0,           0,           0,           0,           0]]), 'Confidence', 'Recall']]\n",
       "fitness: np.float64(0.692683169502182)\n",
       "keys: ['metrics/precision(B)', 'metrics/recall(B)', 'metrics/mAP50(B)', 'metrics/mAP50-95(B)']\n",
       "maps: array([    0.66032])\n",
       "names: {0: 'car'}\n",
       "plot: True\n",
       "results_dict: {'metrics/precision(B)': np.float64(0.9585192644722295), 'metrics/recall(B)': np.float64(0.9628328668946201), 'metrics/mAP50(B)': np.float64(0.9839644400289856), 'metrics/mAP50-95(B)': np.float64(0.6603185838880926), 'fitness': np.float64(0.692683169502182)}\n",
       "save_dir: WindowsPath('runs/detect/train')\n",
       "speed: {'preprocess': 2.0001024889310273, 'inference': 98.36656517356134, 'loss': 0.00015970270858326954, 'postprocess': 1.9135358198939716}\n",
       "task: 'detect'"
      ]
     },
     "execution_count": 14,
     "metadata": {},
     "output_type": "execute_result"
    }
   ],
   "source": [
    "model = YOLO('yolov8n.pt') \n",
    "\n",
    "# Entrenar el modelo\n",
    "# Cambia el número de épocas, tamaño de lote y tasa de aprendizaje según sea necesario\n",
    "model.train(\n",
    "    data=os.path.join(data_dir, \"data.yaml\"),\n",
    "    epochs=10,\n",
    "    batch=8,\n",
    "    imgsz=640,\n",
    "    lr0=0.0005,\n",
    "    patience=5,\n",
    ")\n",
    "\n",
    "# Guardar el modelo entrenado\n",
    "model.save(\"yolo_model.pt\")"
   ]
  },
  {
   "cell_type": "code",
   "execution_count": null,
   "id": "535be452",
   "metadata": {},
   "outputs": [
    {
     "name": "stdout",
     "output_type": "stream",
     "text": [
      "Ultralytics 8.3.127  Python-3.13.1 torch-2.6.0+cu126 CPU (Intel Core(TM) i7-10510U 1.80GHz)\n",
      "Model summary (fused): 72 layers, 3,005,843 parameters, 0 gradients, 8.1 GFLOPs\n",
      "\u001b[34m\u001b[1mval: \u001b[0mFast image access  (ping: 0.10.0 ms, read: 101.974.1 MB/s, size: 87.2 KB)\n"
     ]
    },
    {
     "name": "stderr",
     "output_type": "stream",
     "text": [
      "\u001b[34m\u001b[1mval: \u001b[0mScanning C:\\Users\\ivand\\Documents\\GitHub\\proyecto-final-redes-neuronales\\data\\labels\\val.cache... 79 images, 122 backgrounds, 0 corrupt: 100%|██████████| 201/201 [00:00<?, ?it/s]\n",
      "                 Class     Images  Instances      Box(P          R      mAP50  mAP50-95): 100%|██████████| 13/13 [00:30<00:00,  2.37s/it]\n"
     ]
    },
    {
     "name": "stdout",
     "output_type": "stream",
     "text": [
      "                   all        201        120      0.965      0.942      0.984      0.659\n",
      "Speed: 2.1ms preprocess, 127.2ms inference, 0.0ms loss, 2.8ms postprocess per image\n",
      "Results saved to \u001b[1mruns\\detect\\val2\u001b[0m\n",
      "mAP@.5:.95 = 0.6587\n",
      "mAP@.50    = 0.9843\n",
      "mAP@.75    = 0.7826\n",
      "Precision   = 0.9647\n",
      "Recall      = 0.9417\n"
     ]
    }
   ],
   "source": [
    "# Evaluar el modelo\n",
    "model = YOLO(\"runs/yolov8n_custom/weights/best.pt\")  \n",
    "metrics = model.val()\n",
    "\n",
    "# Mostrar las métricas\n",
    "print(f\"mAP@.5:.95 = {metrics.box.map:.4f}\")\n",
    "print(f\"mAP@.50    = {metrics.box.map50:.4f}\")\n",
    "print(f\"mAP@.75    = {metrics.box.map75:.4f}\")\n",
    "\n",
    "print(f\"Precision   = {metrics.box.mp:.4f}\")\n",
    "print(f\"Recall      = {metrics.box.mr:.4f}\")\n"
   ]
  },
  {
   "cell_type": "code",
   "execution_count": null,
   "id": "2349c117",
   "metadata": {},
   "outputs": [
    {
     "name": "stdout",
     "output_type": "stream",
     "text": [
      "\n"
     ]
    },
    {
     "name": "stderr",
     "output_type": "stream",
     "text": [
      "Ya existe el subdirectorio o el archivo c:\\Users\\ivand\\Documents\\GitHub\\proyecto-final-redes-neuronales\\runs\\yolov8n_custom\\predictions.\n"
     ]
    },
    {
     "name": "stdout",
     "output_type": "stream",
     "text": [
      "image 1/175 c:\\Users\\ivand\\Documents\\GitHub\\proyecto-final-redes-neuronales\\data\\testing_images\\vid_5_25100.jpg: 384x640 (no detections), 193.1ms\n",
      "image 2/175 c:\\Users\\ivand\\Documents\\GitHub\\proyecto-final-redes-neuronales\\data\\testing_images\\vid_5_25120.jpg: 384x640 (no detections), 275.2ms\n",
      "image 3/175 c:\\Users\\ivand\\Documents\\GitHub\\proyecto-final-redes-neuronales\\data\\testing_images\\vid_5_25140.jpg: 384x640 (no detections), 142.4ms\n",
      "image 4/175 c:\\Users\\ivand\\Documents\\GitHub\\proyecto-final-redes-neuronales\\data\\testing_images\\vid_5_25160.jpg: 384x640 (no detections), 117.9ms\n",
      "image 5/175 c:\\Users\\ivand\\Documents\\GitHub\\proyecto-final-redes-neuronales\\data\\testing_images\\vid_5_25180.jpg: 384x640 (no detections), 169.2ms\n",
      "image 6/175 c:\\Users\\ivand\\Documents\\GitHub\\proyecto-final-redes-neuronales\\data\\testing_images\\vid_5_25200.jpg: 384x640 (no detections), 127.5ms\n",
      "image 7/175 c:\\Users\\ivand\\Documents\\GitHub\\proyecto-final-redes-neuronales\\data\\testing_images\\vid_5_25220.jpg: 384x640 (no detections), 154.1ms\n",
      "image 8/175 c:\\Users\\ivand\\Documents\\GitHub\\proyecto-final-redes-neuronales\\data\\testing_images\\vid_5_25240.jpg: 384x640 (no detections), 116.5ms\n",
      "image 9/175 c:\\Users\\ivand\\Documents\\GitHub\\proyecto-final-redes-neuronales\\data\\testing_images\\vid_5_25260.jpg: 384x640 (no detections), 122.2ms\n",
      "image 10/175 c:\\Users\\ivand\\Documents\\GitHub\\proyecto-final-redes-neuronales\\data\\testing_images\\vid_5_26320.jpg: 384x640 (no detections), 119.4ms\n",
      "image 11/175 c:\\Users\\ivand\\Documents\\GitHub\\proyecto-final-redes-neuronales\\data\\testing_images\\vid_5_26400.jpg: 384x640 (no detections), 106.4ms\n",
      "image 12/175 c:\\Users\\ivand\\Documents\\GitHub\\proyecto-final-redes-neuronales\\data\\testing_images\\vid_5_26420.jpg: 384x640 (no detections), 128.1ms\n",
      "image 13/175 c:\\Users\\ivand\\Documents\\GitHub\\proyecto-final-redes-neuronales\\data\\testing_images\\vid_5_26560.jpg: 384x640 1 car, 120.8ms\n",
      "image 14/175 c:\\Users\\ivand\\Documents\\GitHub\\proyecto-final-redes-neuronales\\data\\testing_images\\vid_5_26580.jpg: 384x640 1 car, 119.5ms\n",
      "image 15/175 c:\\Users\\ivand\\Documents\\GitHub\\proyecto-final-redes-neuronales\\data\\testing_images\\vid_5_26600.jpg: 384x640 1 car, 152.6ms\n",
      "image 16/175 c:\\Users\\ivand\\Documents\\GitHub\\proyecto-final-redes-neuronales\\data\\testing_images\\vid_5_26620.jpg: 384x640 1 car, 110.8ms\n",
      "image 17/175 c:\\Users\\ivand\\Documents\\GitHub\\proyecto-final-redes-neuronales\\data\\testing_images\\vid_5_26640.jpg: 384x640 3 cars, 105.2ms\n",
      "image 18/175 c:\\Users\\ivand\\Documents\\GitHub\\proyecto-final-redes-neuronales\\data\\testing_images\\vid_5_26660.jpg: 384x640 1 car, 124.2ms\n",
      "image 19/175 c:\\Users\\ivand\\Documents\\GitHub\\proyecto-final-redes-neuronales\\data\\testing_images\\vid_5_26680.jpg: 384x640 3 cars, 131.2ms\n",
      "image 20/175 c:\\Users\\ivand\\Documents\\GitHub\\proyecto-final-redes-neuronales\\data\\testing_images\\vid_5_26700.jpg: 384x640 2 cars, 106.3ms\n",
      "image 21/175 c:\\Users\\ivand\\Documents\\GitHub\\proyecto-final-redes-neuronales\\data\\testing_images\\vid_5_26720.jpg: 384x640 3 cars, 139.7ms\n",
      "image 22/175 c:\\Users\\ivand\\Documents\\GitHub\\proyecto-final-redes-neuronales\\data\\testing_images\\vid_5_26740.jpg: 384x640 3 cars, 105.5ms\n",
      "image 23/175 c:\\Users\\ivand\\Documents\\GitHub\\proyecto-final-redes-neuronales\\data\\testing_images\\vid_5_26760.jpg: 384x640 3 cars, 115.9ms\n",
      "image 24/175 c:\\Users\\ivand\\Documents\\GitHub\\proyecto-final-redes-neuronales\\data\\testing_images\\vid_5_26780.jpg: 384x640 2 cars, 112.9ms\n",
      "image 25/175 c:\\Users\\ivand\\Documents\\GitHub\\proyecto-final-redes-neuronales\\data\\testing_images\\vid_5_26800.jpg: 384x640 3 cars, 105.3ms\n",
      "image 26/175 c:\\Users\\ivand\\Documents\\GitHub\\proyecto-final-redes-neuronales\\data\\testing_images\\vid_5_26820.jpg: 384x640 2 cars, 134.8ms\n",
      "image 27/175 c:\\Users\\ivand\\Documents\\GitHub\\proyecto-final-redes-neuronales\\data\\testing_images\\vid_5_26840.jpg: 384x640 1 car, 103.1ms\n",
      "image 28/175 c:\\Users\\ivand\\Documents\\GitHub\\proyecto-final-redes-neuronales\\data\\testing_images\\vid_5_26860.jpg: 384x640 1 car, 110.1ms\n",
      "image 29/175 c:\\Users\\ivand\\Documents\\GitHub\\proyecto-final-redes-neuronales\\data\\testing_images\\vid_5_26880.jpg: 384x640 1 car, 107.8ms\n",
      "image 30/175 c:\\Users\\ivand\\Documents\\GitHub\\proyecto-final-redes-neuronales\\data\\testing_images\\vid_5_26900.jpg: 384x640 2 cars, 104.6ms\n",
      "image 31/175 c:\\Users\\ivand\\Documents\\GitHub\\proyecto-final-redes-neuronales\\data\\testing_images\\vid_5_26920.jpg: 384x640 2 cars, 118.9ms\n",
      "image 32/175 c:\\Users\\ivand\\Documents\\GitHub\\proyecto-final-redes-neuronales\\data\\testing_images\\vid_5_26940.jpg: 384x640 2 cars, 103.4ms\n",
      "image 33/175 c:\\Users\\ivand\\Documents\\GitHub\\proyecto-final-redes-neuronales\\data\\testing_images\\vid_5_26960.jpg: 384x640 1 car, 109.7ms\n",
      "image 34/175 c:\\Users\\ivand\\Documents\\GitHub\\proyecto-final-redes-neuronales\\data\\testing_images\\vid_5_26980.jpg: 384x640 (no detections), 103.2ms\n",
      "image 35/175 c:\\Users\\ivand\\Documents\\GitHub\\proyecto-final-redes-neuronales\\data\\testing_images\\vid_5_27240.jpg: 384x640 1 car, 111.9ms\n",
      "image 36/175 c:\\Users\\ivand\\Documents\\GitHub\\proyecto-final-redes-neuronales\\data\\testing_images\\vid_5_27260.jpg: 384x640 (no detections), 104.7ms\n",
      "image 37/175 c:\\Users\\ivand\\Documents\\GitHub\\proyecto-final-redes-neuronales\\data\\testing_images\\vid_5_27280.jpg: 384x640 (no detections), 122.6ms\n",
      "image 38/175 c:\\Users\\ivand\\Documents\\GitHub\\proyecto-final-redes-neuronales\\data\\testing_images\\vid_5_27300.jpg: 384x640 (no detections), 107.7ms\n",
      "image 39/175 c:\\Users\\ivand\\Documents\\GitHub\\proyecto-final-redes-neuronales\\data\\testing_images\\vid_5_27320.jpg: 384x640 1 car, 108.7ms\n",
      "image 40/175 c:\\Users\\ivand\\Documents\\GitHub\\proyecto-final-redes-neuronales\\data\\testing_images\\vid_5_27360.jpg: 384x640 1 car, 101.7ms\n",
      "image 41/175 c:\\Users\\ivand\\Documents\\GitHub\\proyecto-final-redes-neuronales\\data\\testing_images\\vid_5_27380.jpg: 384x640 (no detections), 103.7ms\n",
      "image 42/175 c:\\Users\\ivand\\Documents\\GitHub\\proyecto-final-redes-neuronales\\data\\testing_images\\vid_5_27400.jpg: 384x640 1 car, 103.7ms\n",
      "image 43/175 c:\\Users\\ivand\\Documents\\GitHub\\proyecto-final-redes-neuronales\\data\\testing_images\\vid_5_27420.jpg: 384x640 3 cars, 102.2ms\n",
      "image 44/175 c:\\Users\\ivand\\Documents\\GitHub\\proyecto-final-redes-neuronales\\data\\testing_images\\vid_5_27440.jpg: 384x640 3 cars, 99.9ms\n",
      "image 45/175 c:\\Users\\ivand\\Documents\\GitHub\\proyecto-final-redes-neuronales\\data\\testing_images\\vid_5_27460.jpg: 384x640 2 cars, 102.7ms\n",
      "image 46/175 c:\\Users\\ivand\\Documents\\GitHub\\proyecto-final-redes-neuronales\\data\\testing_images\\vid_5_27480.jpg: 384x640 3 cars, 98.7ms\n",
      "image 47/175 c:\\Users\\ivand\\Documents\\GitHub\\proyecto-final-redes-neuronales\\data\\testing_images\\vid_5_27500.jpg: 384x640 1 car, 98.7ms\n",
      "image 48/175 c:\\Users\\ivand\\Documents\\GitHub\\proyecto-final-redes-neuronales\\data\\testing_images\\vid_5_27520.jpg: 384x640 1 car, 71.5ms\n",
      "image 49/175 c:\\Users\\ivand\\Documents\\GitHub\\proyecto-final-redes-neuronales\\data\\testing_images\\vid_5_27540.jpg: 384x640 1 car, 63.5ms\n",
      "image 50/175 c:\\Users\\ivand\\Documents\\GitHub\\proyecto-final-redes-neuronales\\data\\testing_images\\vid_5_27560.jpg: 384x640 (no detections), 73.9ms\n",
      "image 51/175 c:\\Users\\ivand\\Documents\\GitHub\\proyecto-final-redes-neuronales\\data\\testing_images\\vid_5_27580.jpg: 384x640 (no detections), 72.6ms\n",
      "image 52/175 c:\\Users\\ivand\\Documents\\GitHub\\proyecto-final-redes-neuronales\\data\\testing_images\\vid_5_27600.jpg: 384x640 (no detections), 76.2ms\n",
      "image 53/175 c:\\Users\\ivand\\Documents\\GitHub\\proyecto-final-redes-neuronales\\data\\testing_images\\vid_5_27620.jpg: 384x640 1 car, 71.2ms\n",
      "image 54/175 c:\\Users\\ivand\\Documents\\GitHub\\proyecto-final-redes-neuronales\\data\\testing_images\\vid_5_27640.jpg: 384x640 1 car, 70.5ms\n",
      "image 55/175 c:\\Users\\ivand\\Documents\\GitHub\\proyecto-final-redes-neuronales\\data\\testing_images\\vid_5_27660.jpg: 384x640 (no detections), 71.7ms\n",
      "image 56/175 c:\\Users\\ivand\\Documents\\GitHub\\proyecto-final-redes-neuronales\\data\\testing_images\\vid_5_27680.jpg: 384x640 (no detections), 71.8ms\n",
      "image 57/175 c:\\Users\\ivand\\Documents\\GitHub\\proyecto-final-redes-neuronales\\data\\testing_images\\vid_5_27700.jpg: 384x640 (no detections), 74.8ms\n",
      "image 58/175 c:\\Users\\ivand\\Documents\\GitHub\\proyecto-final-redes-neuronales\\data\\testing_images\\vid_5_27720.jpg: 384x640 (no detections), 70.8ms\n",
      "image 59/175 c:\\Users\\ivand\\Documents\\GitHub\\proyecto-final-redes-neuronales\\data\\testing_images\\vid_5_27740.jpg: 384x640 (no detections), 80.7ms\n",
      "image 60/175 c:\\Users\\ivand\\Documents\\GitHub\\proyecto-final-redes-neuronales\\data\\testing_images\\vid_5_27760.jpg: 384x640 (no detections), 85.8ms\n",
      "image 61/175 c:\\Users\\ivand\\Documents\\GitHub\\proyecto-final-redes-neuronales\\data\\testing_images\\vid_5_27780.jpg: 384x640 (no detections), 83.9ms\n",
      "image 62/175 c:\\Users\\ivand\\Documents\\GitHub\\proyecto-final-redes-neuronales\\data\\testing_images\\vid_5_27800.jpg: 384x640 (no detections), 74.2ms\n",
      "image 63/175 c:\\Users\\ivand\\Documents\\GitHub\\proyecto-final-redes-neuronales\\data\\testing_images\\vid_5_27820.jpg: 384x640 (no detections), 77.9ms\n",
      "image 64/175 c:\\Users\\ivand\\Documents\\GitHub\\proyecto-final-redes-neuronales\\data\\testing_images\\vid_5_27840.jpg: 384x640 1 car, 72.6ms\n",
      "image 65/175 c:\\Users\\ivand\\Documents\\GitHub\\proyecto-final-redes-neuronales\\data\\testing_images\\vid_5_27860.jpg: 384x640 1 car, 169.8ms\n",
      "image 66/175 c:\\Users\\ivand\\Documents\\GitHub\\proyecto-final-redes-neuronales\\data\\testing_images\\vid_5_27880.jpg: 384x640 1 car, 157.0ms\n",
      "image 67/175 c:\\Users\\ivand\\Documents\\GitHub\\proyecto-final-redes-neuronales\\data\\testing_images\\vid_5_27900.jpg: 384x640 1 car, 104.5ms\n",
      "image 68/175 c:\\Users\\ivand\\Documents\\GitHub\\proyecto-final-redes-neuronales\\data\\testing_images\\vid_5_27920.jpg: 384x640 1 car, 101.2ms\n",
      "image 69/175 c:\\Users\\ivand\\Documents\\GitHub\\proyecto-final-redes-neuronales\\data\\testing_images\\vid_5_27940.jpg: 384x640 1 car, 101.3ms\n",
      "image 70/175 c:\\Users\\ivand\\Documents\\GitHub\\proyecto-final-redes-neuronales\\data\\testing_images\\vid_5_27960.jpg: 384x640 (no detections), 104.9ms\n",
      "image 71/175 c:\\Users\\ivand\\Documents\\GitHub\\proyecto-final-redes-neuronales\\data\\testing_images\\vid_5_27980.jpg: 384x640 (no detections), 116.9ms\n",
      "image 72/175 c:\\Users\\ivand\\Documents\\GitHub\\proyecto-final-redes-neuronales\\data\\testing_images\\vid_5_28000.jpg: 384x640 (no detections), 104.3ms\n",
      "image 73/175 c:\\Users\\ivand\\Documents\\GitHub\\proyecto-final-redes-neuronales\\data\\testing_images\\vid_5_28020.jpg: 384x640 (no detections), 104.6ms\n",
      "image 74/175 c:\\Users\\ivand\\Documents\\GitHub\\proyecto-final-redes-neuronales\\data\\testing_images\\vid_5_28040.jpg: 384x640 (no detections), 133.2ms\n",
      "image 75/175 c:\\Users\\ivand\\Documents\\GitHub\\proyecto-final-redes-neuronales\\data\\testing_images\\vid_5_28060.jpg: 384x640 (no detections), 108.5ms\n",
      "image 76/175 c:\\Users\\ivand\\Documents\\GitHub\\proyecto-final-redes-neuronales\\data\\testing_images\\vid_5_28080.jpg: 384x640 (no detections), 101.8ms\n",
      "image 77/175 c:\\Users\\ivand\\Documents\\GitHub\\proyecto-final-redes-neuronales\\data\\testing_images\\vid_5_28180.jpg: 384x640 (no detections), 100.8ms\n",
      "image 78/175 c:\\Users\\ivand\\Documents\\GitHub\\proyecto-final-redes-neuronales\\data\\testing_images\\vid_5_28260.jpg: 384x640 1 car, 100.6ms\n",
      "image 79/175 c:\\Users\\ivand\\Documents\\GitHub\\proyecto-final-redes-neuronales\\data\\testing_images\\vid_5_28320.jpg: 384x640 (no detections), 114.7ms\n",
      "image 80/175 c:\\Users\\ivand\\Documents\\GitHub\\proyecto-final-redes-neuronales\\data\\testing_images\\vid_5_28340.jpg: 384x640 (no detections), 120.1ms\n",
      "image 81/175 c:\\Users\\ivand\\Documents\\GitHub\\proyecto-final-redes-neuronales\\data\\testing_images\\vid_5_28360.jpg: 384x640 (no detections), 110.8ms\n",
      "image 82/175 c:\\Users\\ivand\\Documents\\GitHub\\proyecto-final-redes-neuronales\\data\\testing_images\\vid_5_28380.jpg: 384x640 1 car, 104.1ms\n",
      "image 83/175 c:\\Users\\ivand\\Documents\\GitHub\\proyecto-final-redes-neuronales\\data\\testing_images\\vid_5_28420.jpg: 384x640 1 car, 104.5ms\n",
      "image 84/175 c:\\Users\\ivand\\Documents\\GitHub\\proyecto-final-redes-neuronales\\data\\testing_images\\vid_5_28440.jpg: 384x640 1 car, 103.7ms\n",
      "image 85/175 c:\\Users\\ivand\\Documents\\GitHub\\proyecto-final-redes-neuronales\\data\\testing_images\\vid_5_28460.jpg: 384x640 (no detections), 101.2ms\n",
      "image 86/175 c:\\Users\\ivand\\Documents\\GitHub\\proyecto-final-redes-neuronales\\data\\testing_images\\vid_5_28480.jpg: 384x640 (no detections), 112.8ms\n",
      "image 87/175 c:\\Users\\ivand\\Documents\\GitHub\\proyecto-final-redes-neuronales\\data\\testing_images\\vid_5_28500.jpg: 384x640 (no detections), 99.6ms\n",
      "image 88/175 c:\\Users\\ivand\\Documents\\GitHub\\proyecto-final-redes-neuronales\\data\\testing_images\\vid_5_28520.jpg: 384x640 (no detections), 114.3ms\n",
      "image 89/175 c:\\Users\\ivand\\Documents\\GitHub\\proyecto-final-redes-neuronales\\data\\testing_images\\vid_5_28540.jpg: 384x640 1 car, 101.8ms\n",
      "image 90/175 c:\\Users\\ivand\\Documents\\GitHub\\proyecto-final-redes-neuronales\\data\\testing_images\\vid_5_28560.jpg: 384x640 (no detections), 103.6ms\n",
      "image 91/175 c:\\Users\\ivand\\Documents\\GitHub\\proyecto-final-redes-neuronales\\data\\testing_images\\vid_5_28580.jpg: 384x640 (no detections), 100.6ms\n",
      "image 92/175 c:\\Users\\ivand\\Documents\\GitHub\\proyecto-final-redes-neuronales\\data\\testing_images\\vid_5_28600.jpg: 384x640 (no detections), 104.0ms\n",
      "image 93/175 c:\\Users\\ivand\\Documents\\GitHub\\proyecto-final-redes-neuronales\\data\\testing_images\\vid_5_28620.jpg: 384x640 (no detections), 101.1ms\n",
      "image 94/175 c:\\Users\\ivand\\Documents\\GitHub\\proyecto-final-redes-neuronales\\data\\testing_images\\vid_5_28640.jpg: 384x640 (no detections), 99.8ms\n",
      "image 95/175 c:\\Users\\ivand\\Documents\\GitHub\\proyecto-final-redes-neuronales\\data\\testing_images\\vid_5_28660.jpg: 384x640 (no detections), 102.1ms\n",
      "image 96/175 c:\\Users\\ivand\\Documents\\GitHub\\proyecto-final-redes-neuronales\\data\\testing_images\\vid_5_28680.jpg: 384x640 (no detections), 102.0ms\n",
      "image 97/175 c:\\Users\\ivand\\Documents\\GitHub\\proyecto-final-redes-neuronales\\data\\testing_images\\vid_5_28700.jpg: 384x640 (no detections), 100.0ms\n",
      "image 98/175 c:\\Users\\ivand\\Documents\\GitHub\\proyecto-final-redes-neuronales\\data\\testing_images\\vid_5_29000.jpg: 384x640 2 cars, 105.7ms\n",
      "image 99/175 c:\\Users\\ivand\\Documents\\GitHub\\proyecto-final-redes-neuronales\\data\\testing_images\\vid_5_29020.jpg: 384x640 1 car, 127.0ms\n",
      "image 100/175 c:\\Users\\ivand\\Documents\\GitHub\\proyecto-final-redes-neuronales\\data\\testing_images\\vid_5_29040.jpg: 384x640 1 car, 108.4ms\n",
      "image 101/175 c:\\Users\\ivand\\Documents\\GitHub\\proyecto-final-redes-neuronales\\data\\testing_images\\vid_5_29060.jpg: 384x640 (no detections), 114.5ms\n",
      "image 102/175 c:\\Users\\ivand\\Documents\\GitHub\\proyecto-final-redes-neuronales\\data\\testing_images\\vid_5_29080.jpg: 384x640 (no detections), 103.3ms\n",
      "image 103/175 c:\\Users\\ivand\\Documents\\GitHub\\proyecto-final-redes-neuronales\\data\\testing_images\\vid_5_29100.jpg: 384x640 (no detections), 103.8ms\n",
      "image 104/175 c:\\Users\\ivand\\Documents\\GitHub\\proyecto-final-redes-neuronales\\data\\testing_images\\vid_5_29400.jpg: 384x640 1 car, 99.0ms\n",
      "image 105/175 c:\\Users\\ivand\\Documents\\GitHub\\proyecto-final-redes-neuronales\\data\\testing_images\\vid_5_29420.jpg: 384x640 2 cars, 109.0ms\n",
      "image 106/175 c:\\Users\\ivand\\Documents\\GitHub\\proyecto-final-redes-neuronales\\data\\testing_images\\vid_5_29440.jpg: 384x640 3 cars, 102.6ms\n",
      "image 107/175 c:\\Users\\ivand\\Documents\\GitHub\\proyecto-final-redes-neuronales\\data\\testing_images\\vid_5_29460.jpg: 384x640 1 car, 103.1ms\n",
      "image 108/175 c:\\Users\\ivand\\Documents\\GitHub\\proyecto-final-redes-neuronales\\data\\testing_images\\vid_5_29480.jpg: 384x640 1 car, 103.1ms\n",
      "image 109/175 c:\\Users\\ivand\\Documents\\GitHub\\proyecto-final-redes-neuronales\\data\\testing_images\\vid_5_29500.jpg: 384x640 (no detections), 107.0ms\n",
      "image 110/175 c:\\Users\\ivand\\Documents\\GitHub\\proyecto-final-redes-neuronales\\data\\testing_images\\vid_5_29520.jpg: 384x640 (no detections), 102.9ms\n",
      "image 111/175 c:\\Users\\ivand\\Documents\\GitHub\\proyecto-final-redes-neuronales\\data\\testing_images\\vid_5_29540.jpg: 384x640 2 cars, 103.5ms\n",
      "image 112/175 c:\\Users\\ivand\\Documents\\GitHub\\proyecto-final-redes-neuronales\\data\\testing_images\\vid_5_29560.jpg: 384x640 1 car, 108.5ms\n",
      "image 113/175 c:\\Users\\ivand\\Documents\\GitHub\\proyecto-final-redes-neuronales\\data\\testing_images\\vid_5_29580.jpg: 384x640 1 car, 111.9ms\n",
      "image 114/175 c:\\Users\\ivand\\Documents\\GitHub\\proyecto-final-redes-neuronales\\data\\testing_images\\vid_5_29600.jpg: 384x640 (no detections), 106.3ms\n",
      "image 115/175 c:\\Users\\ivand\\Documents\\GitHub\\proyecto-final-redes-neuronales\\data\\testing_images\\vid_5_29620.jpg: 384x640 (no detections), 107.3ms\n",
      "image 116/175 c:\\Users\\ivand\\Documents\\GitHub\\proyecto-final-redes-neuronales\\data\\testing_images\\vid_5_29640.jpg: 384x640 (no detections), 102.0ms\n",
      "image 117/175 c:\\Users\\ivand\\Documents\\GitHub\\proyecto-final-redes-neuronales\\data\\testing_images\\vid_5_29720.jpg: 384x640 (no detections), 106.8ms\n",
      "image 118/175 c:\\Users\\ivand\\Documents\\GitHub\\proyecto-final-redes-neuronales\\data\\testing_images\\vid_5_29740.jpg: 384x640 (no detections), 122.0ms\n",
      "image 119/175 c:\\Users\\ivand\\Documents\\GitHub\\proyecto-final-redes-neuronales\\data\\testing_images\\vid_5_29760.jpg: 384x640 1 car, 119.1ms\n",
      "image 120/175 c:\\Users\\ivand\\Documents\\GitHub\\proyecto-final-redes-neuronales\\data\\testing_images\\vid_5_29820.jpg: 384x640 1 car, 104.9ms\n",
      "image 121/175 c:\\Users\\ivand\\Documents\\GitHub\\proyecto-final-redes-neuronales\\data\\testing_images\\vid_5_29840.jpg: 384x640 1 car, 106.3ms\n",
      "image 122/175 c:\\Users\\ivand\\Documents\\GitHub\\proyecto-final-redes-neuronales\\data\\testing_images\\vid_5_29860.jpg: 384x640 (no detections), 101.6ms\n",
      "image 123/175 c:\\Users\\ivand\\Documents\\GitHub\\proyecto-final-redes-neuronales\\data\\testing_images\\vid_5_29880.jpg: 384x640 (no detections), 100.8ms\n",
      "image 124/175 c:\\Users\\ivand\\Documents\\GitHub\\proyecto-final-redes-neuronales\\data\\testing_images\\vid_5_29900.jpg: 384x640 (no detections), 104.3ms\n",
      "image 125/175 c:\\Users\\ivand\\Documents\\GitHub\\proyecto-final-redes-neuronales\\data\\testing_images\\vid_5_29980.jpg: 384x640 (no detections), 102.5ms\n",
      "image 126/175 c:\\Users\\ivand\\Documents\\GitHub\\proyecto-final-redes-neuronales\\data\\testing_images\\vid_5_30000.jpg: 384x640 (no detections), 106.9ms\n",
      "image 127/175 c:\\Users\\ivand\\Documents\\GitHub\\proyecto-final-redes-neuronales\\data\\testing_images\\vid_5_30020.jpg: 384x640 (no detections), 103.4ms\n",
      "image 128/175 c:\\Users\\ivand\\Documents\\GitHub\\proyecto-final-redes-neuronales\\data\\testing_images\\vid_5_30040.jpg: 384x640 (no detections), 97.5ms\n",
      "image 129/175 c:\\Users\\ivand\\Documents\\GitHub\\proyecto-final-redes-neuronales\\data\\testing_images\\vid_5_30120.jpg: 384x640 (no detections), 85.1ms\n",
      "image 130/175 c:\\Users\\ivand\\Documents\\GitHub\\proyecto-final-redes-neuronales\\data\\testing_images\\vid_5_30140.jpg: 384x640 (no detections), 97.7ms\n",
      "image 131/175 c:\\Users\\ivand\\Documents\\GitHub\\proyecto-final-redes-neuronales\\data\\testing_images\\vid_5_30160.jpg: 384x640 (no detections), 100.4ms\n",
      "image 132/175 c:\\Users\\ivand\\Documents\\GitHub\\proyecto-final-redes-neuronales\\data\\testing_images\\vid_5_30180.jpg: 384x640 (no detections), 79.2ms\n",
      "image 133/175 c:\\Users\\ivand\\Documents\\GitHub\\proyecto-final-redes-neuronales\\data\\testing_images\\vid_5_30640.jpg: 384x640 1 car, 107.0ms\n",
      "image 134/175 c:\\Users\\ivand\\Documents\\GitHub\\proyecto-final-redes-neuronales\\data\\testing_images\\vid_5_30660.jpg: 384x640 (no detections), 102.1ms\n",
      "image 135/175 c:\\Users\\ivand\\Documents\\GitHub\\proyecto-final-redes-neuronales\\data\\testing_images\\vid_5_30680.jpg: 384x640 (no detections), 81.9ms\n",
      "image 136/175 c:\\Users\\ivand\\Documents\\GitHub\\proyecto-final-redes-neuronales\\data\\testing_images\\vid_5_30700.jpg: 384x640 (no detections), 83.8ms\n",
      "image 137/175 c:\\Users\\ivand\\Documents\\GitHub\\proyecto-final-redes-neuronales\\data\\testing_images\\vid_5_30720.jpg: 384x640 (no detections), 96.5ms\n",
      "image 138/175 c:\\Users\\ivand\\Documents\\GitHub\\proyecto-final-redes-neuronales\\data\\testing_images\\vid_5_30740.jpg: 384x640 1 car, 81.9ms\n",
      "image 139/175 c:\\Users\\ivand\\Documents\\GitHub\\proyecto-final-redes-neuronales\\data\\testing_images\\vid_5_30760.jpg: 384x640 2 cars, 265.1ms\n",
      "image 140/175 c:\\Users\\ivand\\Documents\\GitHub\\proyecto-final-redes-neuronales\\data\\testing_images\\vid_5_30820.jpg: 384x640 1 car, 159.3ms\n",
      "image 141/175 c:\\Users\\ivand\\Documents\\GitHub\\proyecto-final-redes-neuronales\\data\\testing_images\\vid_5_30840.jpg: 384x640 (no detections), 180.1ms\n",
      "image 142/175 c:\\Users\\ivand\\Documents\\GitHub\\proyecto-final-redes-neuronales\\data\\testing_images\\vid_5_30860.jpg: 384x640 1 car, 183.3ms\n",
      "image 143/175 c:\\Users\\ivand\\Documents\\GitHub\\proyecto-final-redes-neuronales\\data\\testing_images\\vid_5_30920.jpg: 384x640 1 car, 195.8ms\n",
      "image 144/175 c:\\Users\\ivand\\Documents\\GitHub\\proyecto-final-redes-neuronales\\data\\testing_images\\vid_5_30940.jpg: 384x640 1 car, 181.1ms\n",
      "image 145/175 c:\\Users\\ivand\\Documents\\GitHub\\proyecto-final-redes-neuronales\\data\\testing_images\\vid_5_31020.jpg: 384x640 2 cars, 180.5ms\n",
      "image 146/175 c:\\Users\\ivand\\Documents\\GitHub\\proyecto-final-redes-neuronales\\data\\testing_images\\vid_5_31040.jpg: 384x640 3 cars, 241.6ms\n",
      "image 147/175 c:\\Users\\ivand\\Documents\\GitHub\\proyecto-final-redes-neuronales\\data\\testing_images\\vid_5_31060.jpg: 384x640 1 car, 193.7ms\n",
      "image 148/175 c:\\Users\\ivand\\Documents\\GitHub\\proyecto-final-redes-neuronales\\data\\testing_images\\vid_5_31080.jpg: 384x640 2 cars, 157.7ms\n",
      "image 149/175 c:\\Users\\ivand\\Documents\\GitHub\\proyecto-final-redes-neuronales\\data\\testing_images\\vid_5_31100.jpg: 384x640 1 car, 152.5ms\n",
      "image 150/175 c:\\Users\\ivand\\Documents\\GitHub\\proyecto-final-redes-neuronales\\data\\testing_images\\vid_5_31120.jpg: 384x640 2 cars, 174.1ms\n",
      "image 151/175 c:\\Users\\ivand\\Documents\\GitHub\\proyecto-final-redes-neuronales\\data\\testing_images\\vid_5_31140.jpg: 384x640 1 car, 189.2ms\n",
      "image 152/175 c:\\Users\\ivand\\Documents\\GitHub\\proyecto-final-redes-neuronales\\data\\testing_images\\vid_5_31160.jpg: 384x640 1 car, 168.7ms\n",
      "image 153/175 c:\\Users\\ivand\\Documents\\GitHub\\proyecto-final-redes-neuronales\\data\\testing_images\\vid_5_31180.jpg: 384x640 (no detections), 248.9ms\n",
      "image 154/175 c:\\Users\\ivand\\Documents\\GitHub\\proyecto-final-redes-neuronales\\data\\testing_images\\vid_5_31200.jpg: 384x640 (no detections), 310.2ms\n",
      "image 155/175 c:\\Users\\ivand\\Documents\\GitHub\\proyecto-final-redes-neuronales\\data\\testing_images\\vid_5_31260.jpg: 384x640 (no detections), 183.6ms\n",
      "image 156/175 c:\\Users\\ivand\\Documents\\GitHub\\proyecto-final-redes-neuronales\\data\\testing_images\\vid_5_31280.jpg: 384x640 (no detections), 182.8ms\n",
      "image 157/175 c:\\Users\\ivand\\Documents\\GitHub\\proyecto-final-redes-neuronales\\data\\testing_images\\vid_5_31300.jpg: 384x640 (no detections), 175.2ms\n",
      "image 158/175 c:\\Users\\ivand\\Documents\\GitHub\\proyecto-final-redes-neuronales\\data\\testing_images\\vid_5_31360.jpg: 384x640 (no detections), 185.6ms\n",
      "image 159/175 c:\\Users\\ivand\\Documents\\GitHub\\proyecto-final-redes-neuronales\\data\\testing_images\\vid_5_31380.jpg: 384x640 (no detections), 203.9ms\n",
      "image 160/175 c:\\Users\\ivand\\Documents\\GitHub\\proyecto-final-redes-neuronales\\data\\testing_images\\vid_5_31400.jpg: 384x640 (no detections), 179.4ms\n",
      "image 161/175 c:\\Users\\ivand\\Documents\\GitHub\\proyecto-final-redes-neuronales\\data\\testing_images\\vid_5_31420.jpg: 384x640 (no detections), 185.5ms\n",
      "image 162/175 c:\\Users\\ivand\\Documents\\GitHub\\proyecto-final-redes-neuronales\\data\\testing_images\\vid_5_31480.jpg: 384x640 (no detections), 167.6ms\n",
      "image 163/175 c:\\Users\\ivand\\Documents\\GitHub\\proyecto-final-redes-neuronales\\data\\testing_images\\vid_5_31500.jpg: 384x640 (no detections), 171.2ms\n",
      "image 164/175 c:\\Users\\ivand\\Documents\\GitHub\\proyecto-final-redes-neuronales\\data\\testing_images\\vid_5_31520.jpg: 384x640 (no detections), 167.6ms\n",
      "image 165/175 c:\\Users\\ivand\\Documents\\GitHub\\proyecto-final-redes-neuronales\\data\\testing_images\\vid_5_31560.jpg: 384x640 1 car, 169.9ms\n",
      "image 166/175 c:\\Users\\ivand\\Documents\\GitHub\\proyecto-final-redes-neuronales\\data\\testing_images\\vid_5_31600.jpg: 384x640 2 cars, 149.3ms\n",
      "image 167/175 c:\\Users\\ivand\\Documents\\GitHub\\proyecto-final-redes-neuronales\\data\\testing_images\\vid_5_31620.jpg: 384x640 1 car, 145.8ms\n",
      "image 168/175 c:\\Users\\ivand\\Documents\\GitHub\\proyecto-final-redes-neuronales\\data\\testing_images\\vid_5_31640.jpg: 384x640 (no detections), 155.9ms\n",
      "image 169/175 c:\\Users\\ivand\\Documents\\GitHub\\proyecto-final-redes-neuronales\\data\\testing_images\\vid_5_31660.jpg: 384x640 (no detections), 142.0ms\n",
      "image 170/175 c:\\Users\\ivand\\Documents\\GitHub\\proyecto-final-redes-neuronales\\data\\testing_images\\vid_5_31680.jpg: 384x640 (no detections), 160.7ms\n",
      "image 171/175 c:\\Users\\ivand\\Documents\\GitHub\\proyecto-final-redes-neuronales\\data\\testing_images\\vid_5_31700.jpg: 384x640 1 car, 162.7ms\n",
      "image 172/175 c:\\Users\\ivand\\Documents\\GitHub\\proyecto-final-redes-neuronales\\data\\testing_images\\vid_5_31720.jpg: 384x640 1 car, 148.6ms\n",
      "image 173/175 c:\\Users\\ivand\\Documents\\GitHub\\proyecto-final-redes-neuronales\\data\\testing_images\\vid_5_400.jpg: 384x640 1 car, 148.3ms\n",
      "image 174/175 c:\\Users\\ivand\\Documents\\GitHub\\proyecto-final-redes-neuronales\\data\\testing_images\\vid_5_420.jpg: 384x640 1 car, 170.0ms\n",
      "image 175/175 c:\\Users\\ivand\\Documents\\GitHub\\proyecto-final-redes-neuronales\\data\\testing_images\\vid_5_440.jpg: 384x640 1 car, 212.1ms\n",
      "Speed: 4.4ms preprocess, 123.0ms inference, 1.9ms postprocess per image at shape (1, 3, 384, 640)\n"
     ]
    }
   ],
   "source": [
    "# Crear un directorio para guardar las predicciones\n",
    "if not os.path.exists(os.path.join(root_dir, \"runs\", \"yolov8n_custom\", \"predictions\")):\n",
    "    print(f\"Creando el directorio para guardar las predicciones: {os.path.join(root_dir, 'runs', 'yolov8n_custom', 'predictions')}\")\n",
    "    %mkdir {os.path.join(root_dir, \"runs\", \"yolov8n_custom\", \"predictions\")}\n",
    "\n",
    "# Realizar predicciones en el conjunto de prueba\n",
    "# Cambia el umbral de confianza y IOU según sea necesario\n",
    "results = model.predict(\n",
    "    source=test_imgs_dir,\n",
    "    conf=0.5,\n",
    "    iou=0.75)\n",
    "\n",
    "# Mostrar las predicciones\n",
    "test_img_list = []\n",
    "for result in results:\n",
    "    if len(result.boxes.xyxy):\n",
    "        name = os.path.basename(result.path).split('.')[0]\n",
    "        boxes = result.boxes.xyxy.cpu().numpy()\n",
    "        scores = result.boxes.conf.cpu().numpy()\n",
    "        test_img_list.append(name)\n",
    "\n",
    "        with open(os.path.join(root_dir, \"runs/yolov8n_custom/predictions\", f\"{name}.txt\"), \"w\") as f:\n",
    "            for score, box in zip(scores, boxes):\n",
    "                # Escribir la puntuación y las coordenadas de la caja delimitadora\n",
    "                f.write(f\"{score:.4f} {' '.join(map(str, box))}\\n\")  "
   ]
  },
  {
   "cell_type": "code",
   "execution_count": null,
   "id": "604eb0f5",
   "metadata": {},
   "outputs": [],
   "source": [
    "# Mostrar las imágenes con las predicciones\n",
    "def show_bbox(img, boxes, scores, axis, color=(0,255,0)):\n",
    "    img = img.copy()\n",
    "    # Verificar si hay cajas delimitadoras\n",
    "    if len(boxes) == 0:\n",
    "        return\n",
    "    # Dibujar las cajas delimitadoras\n",
    "    for i, box in enumerate(boxes.astype(int)):\n",
    "        if scores[i] < 0.5:\n",
    "            color = (0, 0, 255)\n",
    "        else:\n",
    "            color = (0, 255, 0)\n",
    "        cv2.rectangle(img, (box[0], box[1]), (box[2], box[3]), color, 2)\n",
    "        y = box[1] - 10 if box[1] - 10 > 10 else box[1] + 10\n",
    "        cv2.putText(img, f\"{scores[i]:.2f}\", (box[0], y), cv2.FONT_HERSHEY_SIMPLEX, 0.5, color, 2)\n",
    "    axis.imshow(img)\n",
    "    axis.axis(\"off\")\n"
   ]
  },
  {
   "cell_type": "code",
   "execution_count": null,
   "id": "45cd28a0",
   "metadata": {},
   "outputs": [
    {
     "data": {
      "text/plain": [
       "<Figure size 640x480 with 0 Axes>"
      ]
     },
     "metadata": {},
     "output_type": "display_data"
    },
    {
     "data": {
      "text/plain": [
       "<Figure size 1600x2000 with 20 Axes>"
      ]
     },
     "metadata": {},
     "output_type": "display_data"
    }
   ],
   "source": [
    "# Número de imágenes a mostrar\n",
    "# Cambia el número de imágenes a mostrar según sea necesario\n",
    "fig, axes = plt.subplots(10, 2, figsize=(16, 20))\n",
    "axes = axes.flatten()\n",
    "\n",
    "# Seleccionar aleatoriamente 20 imágenes de prueba\n",
    "sample_imgs = np.random.choice(test_img_list, 20, replace=False)\n",
    "\n",
    "# Mostrar imágenes de prueba con predicciones\n",
    "for i, img_name in enumerate(sample_imgs):\n",
    "    img_path = os.path.join(test_imgs_dir, img_name + \".jpg\")\n",
    "    label_path = os.path.join(root_dir, \"runs/yolov8n_custom/predictions\", f\"{img_name}.txt\")\n",
    "\n",
    "    # Leer la imagen\n",
    "    img = cv2.imread(img_path)\n",
    "    img = cv2.cvtColor(img, cv2.COLOR_BGR2RGB)\n",
    "\n",
    "    # Verificar si la imagen existe\n",
    "    if os.path.exists(label_path):  \n",
    "        # Leer las predicciones\n",
    "        label = pd.read_csv(label_path, sep=\" \", header=None).values\n",
    "        show_bbox(img, label[:, 1:], label[:, 0], axes[i])\n",
    "    else:\n",
    "        # Mostrar la imagen sin predicciones\n",
    "        axes[i].imshow(img)\n",
    "        axes[i].axis(\"off\")\n",
    "        axes[i].set_title(\"No predictions\")\n",
    "\n",
    "plt.tight_layout()\n",
    "plt.show()\n",
    "plt.savefig(os.path.join(root_dir, \"runs/yolov8n_custom\", \"predictions\", \"predictions.png\"), dpi=300)\n",
    "\n"
   ]
  },
  {
   "cell_type": "code",
   "execution_count": null,
   "id": "fd8ce316",
   "metadata": {},
   "outputs": [],
   "source": [
    "\n"
   ]
  }
 ],
 "metadata": {
  "kernelspec": {
   "display_name": "Python 3",
   "language": "python",
   "name": "python3"
  },
  "language_info": {
   "codemirror_mode": {
    "name": "ipython",
    "version": 3
   },
   "file_extension": ".py",
   "mimetype": "text/x-python",
   "name": "python",
   "nbconvert_exporter": "python",
   "pygments_lexer": "ipython3",
   "version": "3.13.1"
  }
 },
 "nbformat": 4,
 "nbformat_minor": 5
}
